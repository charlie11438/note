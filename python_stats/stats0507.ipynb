{
  "nbformat": 4,
  "nbformat_minor": 0,
  "metadata": {
    "colab": {
      "name": "stats.ipynb",
      "version": "0.3.2",
      "provenance": [],
      "collapsed_sections": [],
      "include_colab_link": true
    },
    "kernelspec": {
      "name": "python3",
      "display_name": "Python 3"
    }
  },
  "cells": [
    {
      "cell_type": "markdown",
      "metadata": {
        "id": "view-in-github",
        "colab_type": "text"
      },
      "source": [
        "<a href=\"https://colab.research.google.com/github/charlie11438/note/blob/master/python_stats/stats.ipynb\" target=\"_parent\"><img src=\"https://colab.research.google.com/assets/colab-badge.svg\" alt=\"Open In Colab\"/></a>"
      ]
    },
    {
      "cell_type": "markdown",
      "metadata": {
        "id": "8qAOiVSLEsL3",
        "colab_type": "text"
      },
      "source": [
        "# 統計分析筆記\n",
        "\n",
        "## 2019-05-06 basic\n",
        "\n",
        "## 2019-05-07 process output"
      ]
    },
    {
      "cell_type": "code",
      "metadata": {
        "id": "fkn1SPBFCgeR",
        "colab_type": "code",
        "colab": {}
      },
      "source": [
        "#導入模組\n",
        "import numpy as np\n",
        "from scipy import stats\n",
        "import pandas as pd\n",
        "import matplotlib.pyplot as plt\n",
        "import seaborn as sns\n",
        "import math"
      ],
      "execution_count": 0,
      "outputs": []
    },
    {
      "cell_type": "code",
      "metadata": {
        "id": "adrXv4rbCmA3",
        "colab_type": "code",
        "outputId": "da3f8591-71b4-475e-e53b-7441ad8d4ae4",
        "colab": {
          "base_uri": "https://localhost:8080/",
          "height": 153
        }
      },
      "source": [
        "#產生亂數資料(常態分配)\n",
        "np.random.seed(2345)\n",
        "n1=2.5*np.random.randn(20)*6.25\n",
        "n2=3.5*np.random.randn(20)*7.25\n",
        "print(n1)\n",
        "print(n2)"
      ],
      "execution_count": 20,
      "outputs": [
        {
          "output_type": "stream",
          "text": [
            "[-14.86404297  27.63705944 -17.8410458   11.10554484   7.98360375\n",
            "  17.95358491  -8.41344104 -11.51007946  -1.18744504  13.26277847\n",
            "  10.15286394  -8.92518249 -14.28372387  -1.92999649   4.40052368\n",
            "  12.4314367    2.80303774  18.78135697   5.80961638  -4.53255592]\n",
            "[  9.73311316  15.30038367  -4.85448747 -51.06034814  -8.23154233\n",
            "   6.20537342   0.43727906   3.27157155 -36.184515     5.22048131\n",
            "  -4.62917501  41.53613522  -5.97491042 -47.31497455  70.65928947\n",
            " -25.31994047 -29.11741374  36.9981335    3.62539868   3.5094751 ]\n"
          ],
          "name": "stdout"
        }
      ]
    },
    {
      "cell_type": "code",
      "metadata": {
        "id": "ZQQ3X4AuDiii",
        "colab_type": "code",
        "colab": {}
      },
      "source": [
        "#產生DataFrame\n",
        "original=pd.DataFrame()\n",
        "original['sample1']=n1\n",
        "original['sample2']=n2"
      ],
      "execution_count": 0,
      "outputs": []
    },
    {
      "cell_type": "code",
      "metadata": {
        "id": "ghPAV_jvDpY2",
        "colab_type": "code",
        "outputId": "fa2c2e22-fa5a-45d0-cf62-c25bc5b0942d",
        "colab": {
          "base_uri": "https://localhost:8080/",
          "height": 119
        }
      },
      "source": [
        "print(original.head())"
      ],
      "execution_count": 22,
      "outputs": [
        {
          "output_type": "stream",
          "text": [
            "     sample1    sample2\n",
            "0 -14.864043   9.733113\n",
            "1  27.637059  15.300384\n",
            "2 -17.841046  -4.854487\n",
            "3  11.105545 -51.060348\n",
            "4   7.983604  -8.231542\n"
          ],
          "name": "stdout"
        }
      ]
    },
    {
      "cell_type": "markdown",
      "metadata": {
        "id": "PPJ45YvEE305",
        "colab_type": "text"
      },
      "source": [
        "# 敘述性統計"
      ]
    },
    {
      "cell_type": "code",
      "metadata": {
        "id": "D0uSeTfDEpe9",
        "colab_type": "code",
        "colab": {}
      },
      "source": [
        "des=pd.DataFrame(stats.describe(original.loc[:,'sample1']))\n",
        "i=['n','Min-Max','Mean','Variance','skewness','kurtosis']\n",
        "des.index=i\n",
        "des=des.rename(columns={0:'sample1'})"
      ],
      "execution_count": 0,
      "outputs": []
    },
    {
      "cell_type": "code",
      "metadata": {
        "id": "kxsW_ypPFHao",
        "colab_type": "code",
        "colab": {}
      },
      "source": [
        "sam2des=np.array(stats.describe(original.loc[:,'sample2']))\n",
        "des['sample2']=sam2des"
      ],
      "execution_count": 0,
      "outputs": []
    },
    {
      "cell_type": "code",
      "metadata": {
        "id": "XmnFzWG1eTJB",
        "colab_type": "code",
        "colab": {
          "base_uri": "https://localhost:8080/",
          "height": 235
        },
        "outputId": "d89cfbc9-20e3-4eb9-a33c-46b2f9613dc7"
      },
      "source": [
        "des"
      ],
      "execution_count": 28,
      "outputs": [
        {
          "output_type": "execute_result",
          "data": {
            "text/html": [
              "<div>\n",
              "<style scoped>\n",
              "    .dataframe tbody tr th:only-of-type {\n",
              "        vertical-align: middle;\n",
              "    }\n",
              "\n",
              "    .dataframe tbody tr th {\n",
              "        vertical-align: top;\n",
              "    }\n",
              "\n",
              "    .dataframe thead th {\n",
              "        text-align: right;\n",
              "    }\n",
              "</style>\n",
              "<table border=\"1\" class=\"dataframe\">\n",
              "  <thead>\n",
              "    <tr style=\"text-align: right;\">\n",
              "      <th></th>\n",
              "      <th>sample1</th>\n",
              "      <th>sample2</th>\n",
              "    </tr>\n",
              "  </thead>\n",
              "  <tbody>\n",
              "    <tr>\n",
              "      <th>n</th>\n",
              "      <td>20</td>\n",
              "      <td>20</td>\n",
              "    </tr>\n",
              "    <tr>\n",
              "      <th>Min-Max</th>\n",
              "      <td>(-17.84104580006565, 27.6370594414682)</td>\n",
              "      <td>(-51.0603481355165, 70.65928946564321)</td>\n",
              "    </tr>\n",
              "    <tr>\n",
              "      <th>Mean</th>\n",
              "      <td>2.44169</td>\n",
              "      <td>-0.809534</td>\n",
              "    </tr>\n",
              "    <tr>\n",
              "      <th>Variance</th>\n",
              "      <td>160.688</td>\n",
              "      <td>857.75</td>\n",
              "    </tr>\n",
              "    <tr>\n",
              "      <th>skewness</th>\n",
              "      <td>0.0937944</td>\n",
              "      <td>0.411339</td>\n",
              "    </tr>\n",
              "    <tr>\n",
              "      <th>kurtosis</th>\n",
              "      <td>-0.908775</td>\n",
              "      <td>0.393051</td>\n",
              "    </tr>\n",
              "  </tbody>\n",
              "</table>\n",
              "</div>"
            ],
            "text/plain": [
              "                                         sample1  \\\n",
              "n                                             20   \n",
              "Min-Max   (-17.84104580006565, 27.6370594414682)   \n",
              "Mean                                     2.44169   \n",
              "Variance                                 160.688   \n",
              "skewness                               0.0937944   \n",
              "kurtosis                               -0.908775   \n",
              "\n",
              "                                         sample2  \n",
              "n                                             20  \n",
              "Min-Max   (-51.0603481355165, 70.65928946564321)  \n",
              "Mean                                   -0.809534  \n",
              "Variance                                  857.75  \n",
              "skewness                                0.411339  \n",
              "kurtosis                                0.393051  "
            ]
          },
          "metadata": {
            "tags": []
          },
          "execution_count": 28
        }
      ]
    },
    {
      "cell_type": "code",
      "metadata": {
        "id": "MyxLXw-DFNI7",
        "colab_type": "code",
        "outputId": "f621cf31-4e11-4358-93c9-f73557caa203",
        "colab": {
          "base_uri": "https://localhost:8080/",
          "height": 839
        }
      },
      "source": [
        "z0=plt.figure(figsize=(15,14))\n",
        "z0.add_subplot(2,1,1)\n",
        "sns.distplot(original.loc[:,'sample1'])\n",
        "plt.title('sample1 distribution plot')\n",
        "z0.add_subplot(2,1,2)\n",
        "sns.distplot(original.loc[:,'sample2'])\n",
        "plt.title('sample2 distribution plot')\n",
        "plt.show()"
      ],
      "execution_count": 29,
      "outputs": [
        {
          "output_type": "display_data",
          "data": {
            "image/png": "[encoded data removed]",
            "text/plain": [
              "<Figure size 1080x1008 with 2 Axes>"
            ]
          },
          "metadata": {
            "tags": []
          }
        }
      ]
    },
    {
      "cell_type": "markdown",
      "metadata": {
        "id": "t6c2PcgmJw8d",
        "colab_type": "text"
      },
      "source": [
        "# 敘述性統計\n",
        "\n",
        "兩者皆為右偏,近似常態分配\n",
        "\n",
        "sample1為低闊峰,sample2為高峽峰\n",
        "\n",
        "sample2變異程度大於sample1\n"
      ]
    },
    {
      "cell_type": "markdown",
      "metadata": {
        "id": "kvqjSxBpGZWg",
        "colab_type": "text"
      },
      "source": [
        "# 信賴區間\n",
        "\n",
        "stats.sem 計算標準誤\n",
        "\n",
        "stats.t.interval 計算95%信賴區間\n",
        "\n",
        "stats.t.interval(信賴係數,自由度,mean,se(x))\n",
        "\n",
        "20為小樣本,使用t分配"
      ]
    },
    {
      "cell_type": "code",
      "metadata": {
        "id": "RI8F5RuxF2DD",
        "colab_type": "code",
        "outputId": "56cbf8b7-1c12-4f8a-931f-9654fedf8da4",
        "colab": {
          "base_uri": "https://localhost:8080/",
          "height": 51
        }
      },
      "source": [
        "print('sample1 95%信賴區間')\n",
        "stats.t.interval(0.95,original.index.shape[0]-1,loc=original.loc[:,'sample1'].mean(),scale=stats.sem(original.loc[:,'sample1']))"
      ],
      "execution_count": 46,
      "outputs": [
        {
          "output_type": "stream",
          "text": [
            "sample1 95%信賴區間\n"
          ],
          "name": "stdout"
        },
        {
          "output_type": "execute_result",
          "data": {
            "text/plain": [
              "(-3.490993653520516, 8.374383027390223)"
            ]
          },
          "metadata": {
            "tags": []
          },
          "execution_count": 46
        }
      ]
    },
    {
      "cell_type": "code",
      "metadata": {
        "id": "1s9OIm-ZG-fR",
        "colab_type": "code",
        "outputId": "cad1cf0c-32fb-49e2-e19a-84e66300a8ba",
        "colab": {
          "base_uri": "https://localhost:8080/",
          "height": 51
        }
      },
      "source": [
        "print('sample2 95%信賴區間')\n",
        "stats.t.interval(0.95,original.index.shape[0]-1,loc=original.loc[:,'sample2'].mean(),scale=stats.sem(original.loc[:,'sample2']))"
      ],
      "execution_count": 47,
      "outputs": [
        {
          "output_type": "stream",
          "text": [
            "sample2 95%信賴區間\n"
          ],
          "name": "stdout"
        },
        {
          "output_type": "execute_result",
          "data": {
            "text/plain": [
              "(-14.516445144719457, 12.897377845850416)"
            ]
          },
          "metadata": {
            "tags": []
          },
          "execution_count": 47
        }
      ]
    },
    {
      "cell_type": "markdown",
      "metadata": {
        "id": "wL47FcS7I9Un",
        "colab_type": "text"
      },
      "source": [
        "# 假說檢定\n",
        "\n",
        "設sample1群體平均數為mu1,sample2群體平均數為mu2\n",
        "\n",
        "\n",
        "\n",
        "H0:mu1=mu2\n",
        "\n",
        "\n",
        "\n",
        "H1:mu1!=mu2\n",
        "\n",
        "\n",
        "\n",
        "並設定alpha風險控制於0.05\n",
        "\n",
        "\n",
        "\n",
        "scipy的ttest_ind為雙尾檢定,檢測兩群體間的差異(假設兩群體為獨立)\n",
        "\n",
        "\n",
        "\n",
        "equal_var 預設為True,意指預設假設變異數為相同"
      ]
    },
    {
      "cell_type": "code",
      "metadata": {
        "id": "t7t8Lu_YIvMb",
        "colab_type": "code",
        "outputId": "48465abf-8dd1-434e-d5bc-65b154597437",
        "colab": {
          "base_uri": "https://localhost:8080/",
          "height": 111
        }
      },
      "source": [
        "hypo=np.array(stats.ttest_ind(original.loc[:,'sample1'],original.loc[:,'sample2']))\n",
        "hypodf=pd.DataFrame()\n",
        "hypodf['value']=hypo\n",
        "i=['statistic','p-value']\n",
        "hypodf.index=i\n",
        "hypodf"
      ],
      "execution_count": 35,
      "outputs": [
        {
          "output_type": "execute_result",
          "data": {
            "text/html": [
              "<div>\n",
              "<style scoped>\n",
              "    .dataframe tbody tr th:only-of-type {\n",
              "        vertical-align: middle;\n",
              "    }\n",
              "\n",
              "    .dataframe tbody tr th {\n",
              "        vertical-align: top;\n",
              "    }\n",
              "\n",
              "    .dataframe thead th {\n",
              "        text-align: right;\n",
              "    }\n",
              "</style>\n",
              "<table border=\"1\" class=\"dataframe\">\n",
              "  <thead>\n",
              "    <tr style=\"text-align: right;\">\n",
              "      <th></th>\n",
              "      <th>value</th>\n",
              "    </tr>\n",
              "  </thead>\n",
              "  <tbody>\n",
              "    <tr>\n",
              "      <th>statistic</th>\n",
              "      <td>0.455612</td>\n",
              "    </tr>\n",
              "    <tr>\n",
              "      <th>p-value</th>\n",
              "      <td>0.651262</td>\n",
              "    </tr>\n",
              "  </tbody>\n",
              "</table>\n",
              "</div>"
            ],
            "text/plain": [
              "              value\n",
              "statistic  0.455612\n",
              "p-value    0.651262"
            ]
          },
          "metadata": {
            "tags": []
          },
          "execution_count": 35
        }
      ]
    },
    {
      "cell_type": "markdown",
      "metadata": {
        "id": "j-SCcLjiKcI6",
        "colab_type": "text"
      },
      "source": [
        "# 假說檢定\n",
        "\n",
        "p-value 為 0.265,大於0.05,顯著\n",
        "\n",
        "因此不棄卻H0"
      ]
    },
    {
      "cell_type": "markdown",
      "metadata": {
        "id": "e0ehp2m7hmZm",
        "colab_type": "text"
      },
      "source": [
        "## one-way Anova\n",
        "\n",
        "### 單因子變異數分析\n",
        "\n",
        "\n",
        "檢測虛無假說群體間群體平均數無差異\n",
        "\n",
        "\n",
        "H0:mu1=mu2=mu3\n",
        "\n",
        "\n",
        "H1:mu1!=mu2!=mu3\n",
        "\n",
        "\n",
        "alpha風險控制於0.05"
      ]
    },
    {
      "cell_type": "code",
      "metadata": {
        "id": "ziJ2tw5BhNOL",
        "colab_type": "code",
        "colab": {
          "base_uri": "https://localhost:8080/",
          "height": 204
        },
        "outputId": "0c7fbe42-90a8-4baf-9fa6-c123784a2e6b"
      },
      "source": [
        "n3=4.5*np.random.randn(20)*8.25\n",
        "original['sample3']=n3\n",
        "original.head()"
      ],
      "execution_count": 36,
      "outputs": [
        {
          "output_type": "execute_result",
          "data": {
            "text/html": [
              "<div>\n",
              "<style scoped>\n",
              "    .dataframe tbody tr th:only-of-type {\n",
              "        vertical-align: middle;\n",
              "    }\n",
              "\n",
              "    .dataframe tbody tr th {\n",
              "        vertical-align: top;\n",
              "    }\n",
              "\n",
              "    .dataframe thead th {\n",
              "        text-align: right;\n",
              "    }\n",
              "</style>\n",
              "<table border=\"1\" class=\"dataframe\">\n",
              "  <thead>\n",
              "    <tr style=\"text-align: right;\">\n",
              "      <th></th>\n",
              "      <th>sample1</th>\n",
              "      <th>sample2</th>\n",
              "      <th>sample3</th>\n",
              "    </tr>\n",
              "  </thead>\n",
              "  <tbody>\n",
              "    <tr>\n",
              "      <th>0</th>\n",
              "      <td>-14.864043</td>\n",
              "      <td>9.733113</td>\n",
              "      <td>51.141223</td>\n",
              "    </tr>\n",
              "    <tr>\n",
              "      <th>1</th>\n",
              "      <td>27.637059</td>\n",
              "      <td>15.300384</td>\n",
              "      <td>-60.869890</td>\n",
              "    </tr>\n",
              "    <tr>\n",
              "      <th>2</th>\n",
              "      <td>-17.841046</td>\n",
              "      <td>-4.854487</td>\n",
              "      <td>35.190323</td>\n",
              "    </tr>\n",
              "    <tr>\n",
              "      <th>3</th>\n",
              "      <td>11.105545</td>\n",
              "      <td>-51.060348</td>\n",
              "      <td>-72.567043</td>\n",
              "    </tr>\n",
              "    <tr>\n",
              "      <th>4</th>\n",
              "      <td>7.983604</td>\n",
              "      <td>-8.231542</td>\n",
              "      <td>12.845469</td>\n",
              "    </tr>\n",
              "  </tbody>\n",
              "</table>\n",
              "</div>"
            ],
            "text/plain": [
              "     sample1    sample2    sample3\n",
              "0 -14.864043   9.733113  51.141223\n",
              "1  27.637059  15.300384 -60.869890\n",
              "2 -17.841046  -4.854487  35.190323\n",
              "3  11.105545 -51.060348 -72.567043\n",
              "4   7.983604  -8.231542  12.845469"
            ]
          },
          "metadata": {
            "tags": []
          },
          "execution_count": 36
        }
      ]
    },
    {
      "cell_type": "code",
      "metadata": {
        "id": "dAJPONXJJj6L",
        "colab_type": "code",
        "colab": {
          "base_uri": "https://localhost:8080/",
          "height": 235
        },
        "outputId": "d6f21a86-2f23-4806-bc5b-a35e1aecab7c"
      },
      "source": [
        "sam3des=np.array(stats.describe(original.loc[:,'sample3']))\n",
        "des['sample3']=sam3des\n",
        "des"
      ],
      "execution_count": 37,
      "outputs": [
        {
          "output_type": "execute_result",
          "data": {
            "text/html": [
              "<div>\n",
              "<style scoped>\n",
              "    .dataframe tbody tr th:only-of-type {\n",
              "        vertical-align: middle;\n",
              "    }\n",
              "\n",
              "    .dataframe tbody tr th {\n",
              "        vertical-align: top;\n",
              "    }\n",
              "\n",
              "    .dataframe thead th {\n",
              "        text-align: right;\n",
              "    }\n",
              "</style>\n",
              "<table border=\"1\" class=\"dataframe\">\n",
              "  <thead>\n",
              "    <tr style=\"text-align: right;\">\n",
              "      <th></th>\n",
              "      <th>sample1</th>\n",
              "      <th>sample2</th>\n",
              "      <th>sample3</th>\n",
              "    </tr>\n",
              "  </thead>\n",
              "  <tbody>\n",
              "    <tr>\n",
              "      <th>n</th>\n",
              "      <td>20</td>\n",
              "      <td>20</td>\n",
              "      <td>20</td>\n",
              "    </tr>\n",
              "    <tr>\n",
              "      <th>Min-Max</th>\n",
              "      <td>(-17.84104580006565, 27.6370594414682)</td>\n",
              "      <td>(-51.0603481355165, 70.65928946564321)</td>\n",
              "      <td>(-72.56704293102538, 51.14122304728958)</td>\n",
              "    </tr>\n",
              "    <tr>\n",
              "      <th>Mean</th>\n",
              "      <td>2.44169</td>\n",
              "      <td>-0.809534</td>\n",
              "      <td>-12.8157</td>\n",
              "    </tr>\n",
              "    <tr>\n",
              "      <th>Variance</th>\n",
              "      <td>160.688</td>\n",
              "      <td>857.75</td>\n",
              "      <td>1420.53</td>\n",
              "    </tr>\n",
              "    <tr>\n",
              "      <th>skewness</th>\n",
              "      <td>0.0937944</td>\n",
              "      <td>0.411339</td>\n",
              "      <td>0.192931</td>\n",
              "    </tr>\n",
              "    <tr>\n",
              "      <th>kurtosis</th>\n",
              "      <td>-0.908775</td>\n",
              "      <td>0.393051</td>\n",
              "      <td>-1.09866</td>\n",
              "    </tr>\n",
              "  </tbody>\n",
              "</table>\n",
              "</div>"
            ],
            "text/plain": [
              "                                         sample1  \\\n",
              "n                                             20   \n",
              "Min-Max   (-17.84104580006565, 27.6370594414682)   \n",
              "Mean                                     2.44169   \n",
              "Variance                                 160.688   \n",
              "skewness                               0.0937944   \n",
              "kurtosis                               -0.908775   \n",
              "\n",
              "                                         sample2  \\\n",
              "n                                             20   \n",
              "Min-Max   (-51.0603481355165, 70.65928946564321)   \n",
              "Mean                                   -0.809534   \n",
              "Variance                                  857.75   \n",
              "skewness                                0.411339   \n",
              "kurtosis                                0.393051   \n",
              "\n",
              "                                          sample3  \n",
              "n                                              20  \n",
              "Min-Max   (-72.56704293102538, 51.14122304728958)  \n",
              "Mean                                     -12.8157  \n",
              "Variance                                  1420.53  \n",
              "skewness                                 0.192931  \n",
              "kurtosis                                 -1.09866  "
            ]
          },
          "metadata": {
            "tags": []
          },
          "execution_count": 37
        }
      ]
    },
    {
      "cell_type": "code",
      "metadata": {
        "id": "g3KzooVficWs",
        "colab_type": "code",
        "colab": {
          "base_uri": "https://localhost:8080/",
          "height": 51
        },
        "outputId": "895dc028-1c61-4222-ba7f-9b8e683719c6"
      },
      "source": [
        "print('sample3 95%信賴區間')\n",
        "stats.t.interval(0.95,original.index.shape[0]-1,loc=original.loc[:,'sample3'].mean(),scale=stats.sem(original.loc[:,'sample3']))"
      ],
      "execution_count": 48,
      "outputs": [
        {
          "output_type": "stream",
          "text": [
            "sample3 95%信賴區間\n"
          ],
          "name": "stdout"
        },
        {
          "output_type": "execute_result",
          "data": {
            "text/plain": [
              "(-30.45513345992947, 4.823705242819598)"
            ]
          },
          "metadata": {
            "tags": []
          },
          "execution_count": 48
        }
      ]
    },
    {
      "cell_type": "code",
      "metadata": {
        "id": "e1L_AHggjHGk",
        "colab_type": "code",
        "colab": {
          "base_uri": "https://localhost:8080/",
          "height": 111
        },
        "outputId": "4b9330c9-c1e9-444a-fc9e-094ffe62c78e"
      },
      "source": [
        "owanova=np.array(stats.f_oneway(original.loc[:,'sample1'],original.loc[:,'sample2'],original.loc[:,'sample3']))\n",
        "OneWay=pd.DataFrame()\n",
        "OneWay['value']=owanova\n",
        "OneWay.index=['statistics','p-value']\n",
        "OneWay"
      ],
      "execution_count": 44,
      "outputs": [
        {
          "output_type": "execute_result",
          "data": {
            "text/html": [
              "<div>\n",
              "<style scoped>\n",
              "    .dataframe tbody tr th:only-of-type {\n",
              "        vertical-align: middle;\n",
              "    }\n",
              "\n",
              "    .dataframe tbody tr th {\n",
              "        vertical-align: top;\n",
              "    }\n",
              "\n",
              "    .dataframe thead th {\n",
              "        text-align: right;\n",
              "    }\n",
              "</style>\n",
              "<table border=\"1\" class=\"dataframe\">\n",
              "  <thead>\n",
              "    <tr style=\"text-align: right;\">\n",
              "      <th></th>\n",
              "      <th>value</th>\n",
              "    </tr>\n",
              "  </thead>\n",
              "  <tbody>\n",
              "    <tr>\n",
              "      <th>statistics</th>\n",
              "      <td>1.588817</td>\n",
              "    </tr>\n",
              "    <tr>\n",
              "      <th>p-value</th>\n",
              "      <td>0.213075</td>\n",
              "    </tr>\n",
              "  </tbody>\n",
              "</table>\n",
              "</div>"
            ],
            "text/plain": [
              "               value\n",
              "statistics  1.588817\n",
              "p-value     0.213075"
            ]
          },
          "metadata": {
            "tags": []
          },
          "execution_count": 44
        }
      ]
    },
    {
      "cell_type": "markdown",
      "metadata": {
        "id": "zJ12pbRAkW4G",
        "colab_type": "text"
      },
      "source": [
        "## One-way anova\n",
        "\n",
        "p-value>0.05,不棄卻H0假說\n",
        "\n",
        "即群體平均數無明顯差異"
      ]
    },
    {
      "cell_type": "code",
      "metadata": {
        "id": "-pstvQJWkMg1",
        "colab_type": "code",
        "colab": {}
      },
      "source": [
        ""
      ],
      "execution_count": 0,
      "outputs": []
    }
  ]
}