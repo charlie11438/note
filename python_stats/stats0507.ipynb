{
  "nbformat": 4,
  "nbformat_minor": 0,
  "metadata": {
    "colab": {
      "name": "stats.ipynb",
      "version": "0.3.2",
      "provenance": [],
      "collapsed_sections": [],
      "include_colab_link": true
    },
    "kernelspec": {
      "name": "python3",
      "display_name": "Python 3"
    }
  },
  "cells": [
    {
      "cell_type": "markdown",
      "metadata": {
        "id": "view-in-github",
        "colab_type": "text"
      },
      "source": [
        "<a href=\"https://colab.research.google.com/github/charlie11438/note/blob/master/python_stats/stats0507.ipynb\" target=\"_parent\"><img src=\"https://colab.research.google.com/assets/colab-badge.svg\" alt=\"Open In Colab\"/></a>"
      ]
    },
    {
      "cell_type": "markdown",
      "metadata": {
        "id": "8qAOiVSLEsL3",
        "colab_type": "text"
      },
      "source": [
        "# 統計分析筆記\n",
        "\n",
        "## 2019-05-06 basic\n",
        "\n",
        "## 2019-05-07 process output"
      ]
    },
    {
      "cell_type": "code",
      "metadata": {
        "id": "fkn1SPBFCgeR",
        "colab_type": "code",
        "colab": {}
      },
      "source": [
        "#導入模組\n",
        "import numpy as np\n",
        "from scipy import stats\n",
        "import pandas as pd\n",
        "import matplotlib.pyplot as plt\n",
        "import seaborn as sns\n",
        "import math\n",
        "import random"
      ],
      "execution_count": 0,
      "outputs": []
    },
    {
      "cell_type": "code",
      "metadata": {
        "id": "adrXv4rbCmA3",
        "colab_type": "code",
        "colab": {}
      },
      "source": [
        "#產生亂數資料(常態分配)\n",
        "np.random.seed(2345)\n",
        "n1=list(2.5*np.random.randn(1000)*6.25)\n",
        "n2=list(3.5*np.random.randn(1000)*7.25)\n",
        "sam1=random.sample(n1,20)\n",
        "sam2=random.sample(n2,20)"
      ],
      "execution_count": 0,
      "outputs": []
    },
    {
      "cell_type": "code",
      "metadata": {
        "id": "ZQQ3X4AuDiii",
        "colab_type": "code",
        "colab": {}
      },
      "source": [
        "#產生DataFrame\n",
        "original=pd.DataFrame()\n",
        "original['sample1']=sam1\n",
        "original['sample2']=sam2"
      ],
      "execution_count": 0,
      "outputs": []
    },
    {
      "cell_type": "code",
      "metadata": {
        "id": "ghPAV_jvDpY2",
        "colab_type": "code",
        "outputId": "68940871-f856-4d57-b7aa-7451983d75c5",
        "colab": {
          "base_uri": "https://localhost:8080/",
          "height": 118
        }
      },
      "source": [
        "print(original.head())"
      ],
      "execution_count": 6,
      "outputs": [
        {
          "output_type": "stream",
          "text": [
            "     sample1    sample2\n",
            "0  15.032696 -30.064565\n",
            "1 -14.038998  33.003605\n",
            "2 -27.322717 -13.291741\n",
            "3 -31.441101 -29.463809\n",
            "4  27.637059  -5.147494\n"
          ],
          "name": "stdout"
        }
      ]
    },
    {
      "cell_type": "markdown",
      "metadata": {
        "id": "PPJ45YvEE305",
        "colab_type": "text"
      },
      "source": [
        "# 敘述性統計"
      ]
    },
    {
      "cell_type": "code",
      "metadata": {
        "id": "D0uSeTfDEpe9",
        "colab_type": "code",
        "colab": {}
      },
      "source": [
        "des=pd.DataFrame(stats.describe(original.loc[:,'sample1']))\n",
        "i=['n','Min-Max','Mean','Variance','skewness','kurtosis']\n",
        "des.index=i\n",
        "des=des.rename(columns={0:'sample1'})"
      ],
      "execution_count": 0,
      "outputs": []
    },
    {
      "cell_type": "code",
      "metadata": {
        "id": "kxsW_ypPFHao",
        "colab_type": "code",
        "colab": {}
      },
      "source": [
        "sam2des=np.array(stats.describe(original.loc[:,'sample2']))\n",
        "des['sample2']=sam2des"
      ],
      "execution_count": 0,
      "outputs": []
    },
    {
      "cell_type": "code",
      "metadata": {
        "id": "XmnFzWG1eTJB",
        "colab_type": "code",
        "outputId": "10a9bb7c-22c8-42b2-86c1-38a0050baf0c",
        "colab": {
          "base_uri": "https://localhost:8080/",
          "height": 225
        }
      },
      "source": [
        "des"
      ],
      "execution_count": 9,
      "outputs": [
        {
          "output_type": "execute_result",
          "data": {
            "text/html": [
              "<div>\n",
              "<style scoped>\n",
              "    .dataframe tbody tr th:only-of-type {\n",
              "        vertical-align: middle;\n",
              "    }\n",
              "\n",
              "    .dataframe tbody tr th {\n",
              "        vertical-align: top;\n",
              "    }\n",
              "\n",
              "    .dataframe thead th {\n",
              "        text-align: right;\n",
              "    }\n",
              "</style>\n",
              "<table border=\"1\" class=\"dataframe\">\n",
              "  <thead>\n",
              "    <tr style=\"text-align: right;\">\n",
              "      <th></th>\n",
              "      <th>sample1</th>\n",
              "      <th>sample2</th>\n",
              "    </tr>\n",
              "  </thead>\n",
              "  <tbody>\n",
              "    <tr>\n",
              "      <th>n</th>\n",
              "      <td>20</td>\n",
              "      <td>20</td>\n",
              "    </tr>\n",
              "    <tr>\n",
              "      <th>Min-Max</th>\n",
              "      <td>(-31.44110106866779, 27.6370594414682)</td>\n",
              "      <td>(-41.669464399465014, 40.400309011079166)</td>\n",
              "    </tr>\n",
              "    <tr>\n",
              "      <th>Mean</th>\n",
              "      <td>-0.346568</td>\n",
              "      <td>-6.30923</td>\n",
              "    </tr>\n",
              "    <tr>\n",
              "      <th>Variance</th>\n",
              "      <td>315.22</td>\n",
              "      <td>811.114</td>\n",
              "    </tr>\n",
              "    <tr>\n",
              "      <th>skewness</th>\n",
              "      <td>-0.1977</td>\n",
              "      <td>0.357962</td>\n",
              "    </tr>\n",
              "    <tr>\n",
              "      <th>kurtosis</th>\n",
              "      <td>-1.18651</td>\n",
              "      <td>-1.2424</td>\n",
              "    </tr>\n",
              "  </tbody>\n",
              "</table>\n",
              "</div>"
            ],
            "text/plain": [
              "                                         sample1  \\\n",
              "n                                             20   \n",
              "Min-Max   (-31.44110106866779, 27.6370594414682)   \n",
              "Mean                                   -0.346568   \n",
              "Variance                                  315.22   \n",
              "skewness                                 -0.1977   \n",
              "kurtosis                                -1.18651   \n",
              "\n",
              "                                            sample2  \n",
              "n                                                20  \n",
              "Min-Max   (-41.669464399465014, 40.400309011079166)  \n",
              "Mean                                       -6.30923  \n",
              "Variance                                    811.114  \n",
              "skewness                                   0.357962  \n",
              "kurtosis                                    -1.2424  "
            ]
          },
          "metadata": {
            "tags": []
          },
          "execution_count": 9
        }
      ]
    },
    {
      "cell_type": "code",
      "metadata": {
        "id": "MyxLXw-DFNI7",
        "colab_type": "code",
        "outputId": "2ba01ad5-bcd7-4daa-d9fc-177908b3a50a",
        "colab": {
          "base_uri": "https://localhost:8080/",
          "height": 839
        }
      },
      "source": [
        "z0=plt.figure(figsize=(15,14))\n",
        "z0.add_subplot(2,1,1)\n",
        "sns.distplot(original.loc[:,'sample1'])\n",
        "plt.title('sample1 distribution plot')\n",
        "z0.add_subplot(2,1,2)\n",
        "sns.distplot(original.loc[:,'sample2'])\n",
        "plt.title('sample2 distribution plot')\n",
        "plt.show()"
      ],
      "execution_count": 10,
      "outputs": [
        {
          "output_type": "display_data",
          "data": {
            "image/png": "[encoded data removed]",
            "text/plain": [
              "<Figure size 1080x1008 with 2 Axes>"
            ]
          },
          "metadata": {
            "tags": []
          }
        }
      ]
    },
    {
      "cell_type": "markdown",
      "metadata": {
        "id": "t6c2PcgmJw8d",
        "colab_type": "text"
      },
      "source": [
        "# 敘述性統計\n",
        "\n",
        "兩者皆為右偏,近似常態分配\n",
        "\n",
        "sample1為低闊峰,sample2為高峽峰\n",
        "\n",
        "sample2變異程度大於sample1\n"
      ]
    },
    {
      "cell_type": "markdown",
      "metadata": {
        "id": "kvqjSxBpGZWg",
        "colab_type": "text"
      },
      "source": [
        "# 信賴區間\n",
        "\n",
        "stats.sem 計算標準誤\n",
        "\n",
        "stats.t.interval 計算95%信賴區間\n",
        "\n",
        "stats.t.interval(信賴係數,自由度,mean,se(x))\n",
        "\n",
        "20為小樣本,使用t分配"
      ]
    },
    {
      "cell_type": "code",
      "metadata": {
        "id": "RI8F5RuxF2DD",
        "colab_type": "code",
        "outputId": "983eac2b-3204-4397-dc60-a29d58b7b7c3",
        "colab": {
          "base_uri": "https://localhost:8080/",
          "height": 50
        }
      },
      "source": [
        "print('sample1 95%信賴區間')\n",
        "stats.t.interval(0.95,original.index.shape[0]-1,loc=original.loc[:,'sample1'].mean(),scale=stats.sem(original.loc[:,'sample1']))"
      ],
      "execution_count": 11,
      "outputs": [
        {
          "output_type": "stream",
          "text": [
            "sample1 95%信賴區間\n"
          ],
          "name": "stdout"
        },
        {
          "output_type": "execute_result",
          "data": {
            "text/plain": [
              "(-8.655900718911644, 7.962764376490925)"
            ]
          },
          "metadata": {
            "tags": []
          },
          "execution_count": 11
        }
      ]
    },
    {
      "cell_type": "code",
      "metadata": {
        "id": "1s9OIm-ZG-fR",
        "colab_type": "code",
        "outputId": "c52db83c-dc1b-45cd-e9ab-d27cafda32af",
        "colab": {
          "base_uri": "https://localhost:8080/",
          "height": 50
        }
      },
      "source": [
        "print('sample2 95%信賴區間')\n",
        "stats.t.interval(0.95,original.index.shape[0]-1,loc=original.loc[:,'sample2'].mean(),scale=stats.sem(original.loc[:,'sample2']))"
      ],
      "execution_count": 12,
      "outputs": [
        {
          "output_type": "stream",
          "text": [
            "sample2 95%信賴區間\n"
          ],
          "name": "stdout"
        },
        {
          "output_type": "execute_result",
          "data": {
            "text/plain": [
              "(-19.638311718726257, 7.019844769360109)"
            ]
          },
          "metadata": {
            "tags": []
          },
          "execution_count": 12
        }
      ]
    },
    {
      "cell_type": "markdown",
      "metadata": {
        "id": "wL47FcS7I9Un",
        "colab_type": "text"
      },
      "source": [
        "# 假說檢定\n",
        "\n",
        "設sample1群體平均數為mu1,sample2群體平均數為mu2\n",
        "\n",
        "\n",
        "\n",
        "H0:mu1=mu2\n",
        "\n",
        "\n",
        "\n",
        "H1:mu1!=mu2\n",
        "\n",
        "\n",
        "\n",
        "並設定alpha風險控制於0.05\n",
        "\n",
        "\n",
        "\n",
        "scipy的ttest_ind為雙尾檢定,檢測兩群體間的差異(假設兩群體為獨立)\n",
        "\n",
        "\n",
        "\n",
        "equal_var 預設為True,意指預設假設變異數為相同"
      ]
    },
    {
      "cell_type": "code",
      "metadata": {
        "id": "t7t8Lu_YIvMb",
        "colab_type": "code",
        "outputId": "ac7aa6a2-b559-4f61-d521-120719196b24",
        "colab": {
          "base_uri": "https://localhost:8080/",
          "height": 106
        }
      },
      "source": [
        "hypo=np.array(stats.ttest_ind(original.loc[:,'sample1'],original.loc[:,'sample2']))\n",
        "hypodf=pd.DataFrame()\n",
        "hypodf['value']=hypo\n",
        "i=['statistic','p-value']\n",
        "hypodf.index=i\n",
        "hypodf"
      ],
      "execution_count": 14,
      "outputs": [
        {
          "output_type": "execute_result",
          "data": {
            "text/html": [
              "<div>\n",
              "<style scoped>\n",
              "    .dataframe tbody tr th:only-of-type {\n",
              "        vertical-align: middle;\n",
              "    }\n",
              "\n",
              "    .dataframe tbody tr th {\n",
              "        vertical-align: top;\n",
              "    }\n",
              "\n",
              "    .dataframe thead th {\n",
              "        text-align: right;\n",
              "    }\n",
              "</style>\n",
              "<table border=\"1\" class=\"dataframe\">\n",
              "  <thead>\n",
              "    <tr style=\"text-align: right;\">\n",
              "      <th></th>\n",
              "      <th>value</th>\n",
              "    </tr>\n",
              "  </thead>\n",
              "  <tbody>\n",
              "    <tr>\n",
              "      <th>statistic</th>\n",
              "      <td>0.794551</td>\n",
              "    </tr>\n",
              "    <tr>\n",
              "      <th>p-value</th>\n",
              "      <td>0.431809</td>\n",
              "    </tr>\n",
              "  </tbody>\n",
              "</table>\n",
              "</div>"
            ],
            "text/plain": [
              "              value\n",
              "statistic  0.794551\n",
              "p-value    0.431809"
            ]
          },
          "metadata": {
            "tags": []
          },
          "execution_count": 14
        }
      ]
    },
    {
      "cell_type": "markdown",
      "metadata": {
        "id": "j-SCcLjiKcI6",
        "colab_type": "text"
      },
      "source": [
        "# 假說檢定\n",
        "\n",
        "p-value 為 0.431,大於0.05,顯著\n",
        "\n",
        "因此不棄卻H0"
      ]
    },
    {
      "cell_type": "markdown",
      "metadata": {
        "id": "e0ehp2m7hmZm",
        "colab_type": "text"
      },
      "source": [
        "## one-way Anova\n",
        "\n",
        "### 單因子變異數分析\n",
        "\n",
        "\n",
        "檢測虛無假說群體間群體平均數無差異\n",
        "\n",
        "\n",
        "H0:mu1=mu2=mu3\n",
        "\n",
        "\n",
        "H1:mu1!=mu2!=mu3\n",
        "\n",
        "\n",
        "alpha風險控制於0.05"
      ]
    },
    {
      "cell_type": "code",
      "metadata": {
        "id": "ziJ2tw5BhNOL",
        "colab_type": "code",
        "outputId": "5e13f8eb-54cc-48f6-e61c-3ae2dbb05f22",
        "colab": {
          "base_uri": "https://localhost:8080/",
          "height": 195
        }
      },
      "source": [
        "n3=list(4.5*np.random.randn(1000)*8.25)\n",
        "original['sample3']=random.sample(n3,20)\n",
        "original.head()"
      ],
      "execution_count": 15,
      "outputs": [
        {
          "output_type": "execute_result",
          "data": {
            "text/html": [
              "<div>\n",
              "<style scoped>\n",
              "    .dataframe tbody tr th:only-of-type {\n",
              "        vertical-align: middle;\n",
              "    }\n",
              "\n",
              "    .dataframe tbody tr th {\n",
              "        vertical-align: top;\n",
              "    }\n",
              "\n",
              "    .dataframe thead th {\n",
              "        text-align: right;\n",
              "    }\n",
              "</style>\n",
              "<table border=\"1\" class=\"dataframe\">\n",
              "  <thead>\n",
              "    <tr style=\"text-align: right;\">\n",
              "      <th></th>\n",
              "      <th>sample1</th>\n",
              "      <th>sample2</th>\n",
              "      <th>sample3</th>\n",
              "    </tr>\n",
              "  </thead>\n",
              "  <tbody>\n",
              "    <tr>\n",
              "      <th>0</th>\n",
              "      <td>15.032696</td>\n",
              "      <td>-30.064565</td>\n",
              "      <td>-45.653113</td>\n",
              "    </tr>\n",
              "    <tr>\n",
              "      <th>1</th>\n",
              "      <td>-14.038998</td>\n",
              "      <td>33.003605</td>\n",
              "      <td>29.355050</td>\n",
              "    </tr>\n",
              "    <tr>\n",
              "      <th>2</th>\n",
              "      <td>-27.322717</td>\n",
              "      <td>-13.291741</td>\n",
              "      <td>-40.550740</td>\n",
              "    </tr>\n",
              "    <tr>\n",
              "      <th>3</th>\n",
              "      <td>-31.441101</td>\n",
              "      <td>-29.463809</td>\n",
              "      <td>35.109377</td>\n",
              "    </tr>\n",
              "    <tr>\n",
              "      <th>4</th>\n",
              "      <td>27.637059</td>\n",
              "      <td>-5.147494</td>\n",
              "      <td>25.342874</td>\n",
              "    </tr>\n",
              "  </tbody>\n",
              "</table>\n",
              "</div>"
            ],
            "text/plain": [
              "     sample1    sample2    sample3\n",
              "0  15.032696 -30.064565 -45.653113\n",
              "1 -14.038998  33.003605  29.355050\n",
              "2 -27.322717 -13.291741 -40.550740\n",
              "3 -31.441101 -29.463809  35.109377\n",
              "4  27.637059  -5.147494  25.342874"
            ]
          },
          "metadata": {
            "tags": []
          },
          "execution_count": 15
        }
      ]
    },
    {
      "cell_type": "code",
      "metadata": {
        "id": "dAJPONXJJj6L",
        "colab_type": "code",
        "outputId": "1ac756c4-328b-463e-d43a-29717338113b",
        "colab": {
          "base_uri": "https://localhost:8080/",
          "height": 225
        }
      },
      "source": [
        "sam3des=np.array(stats.describe(original.loc[:,'sample3']))\n",
        "des['sample3']=sam3des\n",
        "des"
      ],
      "execution_count": 16,
      "outputs": [
        {
          "output_type": "execute_result",
          "data": {
            "text/html": [
              "<div>\n",
              "<style scoped>\n",
              "    .dataframe tbody tr th:only-of-type {\n",
              "        vertical-align: middle;\n",
              "    }\n",
              "\n",
              "    .dataframe tbody tr th {\n",
              "        vertical-align: top;\n",
              "    }\n",
              "\n",
              "    .dataframe thead th {\n",
              "        text-align: right;\n",
              "    }\n",
              "</style>\n",
              "<table border=\"1\" class=\"dataframe\">\n",
              "  <thead>\n",
              "    <tr style=\"text-align: right;\">\n",
              "      <th></th>\n",
              "      <th>sample1</th>\n",
              "      <th>sample2</th>\n",
              "      <th>sample3</th>\n",
              "    </tr>\n",
              "  </thead>\n",
              "  <tbody>\n",
              "    <tr>\n",
              "      <th>n</th>\n",
              "      <td>20</td>\n",
              "      <td>20</td>\n",
              "      <td>20</td>\n",
              "    </tr>\n",
              "    <tr>\n",
              "      <th>Min-Max</th>\n",
              "      <td>(-31.44110106866779, 27.6370594414682)</td>\n",
              "      <td>(-41.669464399465014, 40.400309011079166)</td>\n",
              "      <td>(-74.1642408092372, 35.320725826582866)</td>\n",
              "    </tr>\n",
              "    <tr>\n",
              "      <th>Mean</th>\n",
              "      <td>-0.346568</td>\n",
              "      <td>-6.30923</td>\n",
              "      <td>-6.12452</td>\n",
              "    </tr>\n",
              "    <tr>\n",
              "      <th>Variance</th>\n",
              "      <td>315.22</td>\n",
              "      <td>811.114</td>\n",
              "      <td>1091.58</td>\n",
              "    </tr>\n",
              "    <tr>\n",
              "      <th>skewness</th>\n",
              "      <td>-0.1977</td>\n",
              "      <td>0.357962</td>\n",
              "      <td>-0.459647</td>\n",
              "    </tr>\n",
              "    <tr>\n",
              "      <th>kurtosis</th>\n",
              "      <td>-1.18651</td>\n",
              "      <td>-1.2424</td>\n",
              "      <td>-0.774601</td>\n",
              "    </tr>\n",
              "  </tbody>\n",
              "</table>\n",
              "</div>"
            ],
            "text/plain": [
              "                                         sample1  \\\n",
              "n                                             20   \n",
              "Min-Max   (-31.44110106866779, 27.6370594414682)   \n",
              "Mean                                   -0.346568   \n",
              "Variance                                  315.22   \n",
              "skewness                                 -0.1977   \n",
              "kurtosis                                -1.18651   \n",
              "\n",
              "                                            sample2  \\\n",
              "n                                                20   \n",
              "Min-Max   (-41.669464399465014, 40.400309011079166)   \n",
              "Mean                                       -6.30923   \n",
              "Variance                                    811.114   \n",
              "skewness                                   0.357962   \n",
              "kurtosis                                    -1.2424   \n",
              "\n",
              "                                          sample3  \n",
              "n                                              20  \n",
              "Min-Max   (-74.1642408092372, 35.320725826582866)  \n",
              "Mean                                     -6.12452  \n",
              "Variance                                  1091.58  \n",
              "skewness                                -0.459647  \n",
              "kurtosis                                -0.774601  "
            ]
          },
          "metadata": {
            "tags": []
          },
          "execution_count": 16
        }
      ]
    },
    {
      "cell_type": "code",
      "metadata": {
        "id": "g3KzooVficWs",
        "colab_type": "code",
        "outputId": "d27eb463-2e6a-4711-fcfc-0788772e5f44",
        "colab": {
          "base_uri": "https://localhost:8080/",
          "height": 50
        }
      },
      "source": [
        "print('sample3 95%信賴區間')\n",
        "stats.t.interval(0.95,original.index.shape[0]-1,loc=original.loc[:,'sample3'].mean(),scale=stats.sem(original.loc[:,'sample3']))"
      ],
      "execution_count": 17,
      "outputs": [
        {
          "output_type": "stream",
          "text": [
            "sample3 95%信賴區間\n"
          ],
          "name": "stdout"
        },
        {
          "output_type": "execute_result",
          "data": {
            "text/plain": [
              "(-21.587281311178224, 9.3382349678268)"
            ]
          },
          "metadata": {
            "tags": []
          },
          "execution_count": 17
        }
      ]
    },
    {
      "cell_type": "code",
      "metadata": {
        "id": "e1L_AHggjHGk",
        "colab_type": "code",
        "outputId": "66b1b622-7b10-4b83-c85e-38497f9cfe84",
        "colab": {
          "base_uri": "https://localhost:8080/",
          "height": 106
        }
      },
      "source": [
        "owanova=np.array(stats.f_oneway(original.loc[:,'sample1'],original.loc[:,'sample2'],original.loc[:,'sample3']))\n",
        "OneWay=pd.DataFrame()\n",
        "OneWay['value']=owanova\n",
        "OneWay.index=['statistics','p-value']\n",
        "OneWay"
      ],
      "execution_count": 18,
      "outputs": [
        {
          "output_type": "execute_result",
          "data": {
            "text/html": [
              "<div>\n",
              "<style scoped>\n",
              "    .dataframe tbody tr th:only-of-type {\n",
              "        vertical-align: middle;\n",
              "    }\n",
              "\n",
              "    .dataframe tbody tr th {\n",
              "        vertical-align: top;\n",
              "    }\n",
              "\n",
              "    .dataframe thead th {\n",
              "        text-align: right;\n",
              "    }\n",
              "</style>\n",
              "<table border=\"1\" class=\"dataframe\">\n",
              "  <thead>\n",
              "    <tr style=\"text-align: right;\">\n",
              "      <th></th>\n",
              "      <th>value</th>\n",
              "    </tr>\n",
              "  </thead>\n",
              "  <tbody>\n",
              "    <tr>\n",
              "      <th>statistics</th>\n",
              "      <td>0.310978</td>\n",
              "    </tr>\n",
              "    <tr>\n",
              "      <th>p-value</th>\n",
              "      <td>0.733965</td>\n",
              "    </tr>\n",
              "  </tbody>\n",
              "</table>\n",
              "</div>"
            ],
            "text/plain": [
              "               value\n",
              "statistics  0.310978\n",
              "p-value     0.733965"
            ]
          },
          "metadata": {
            "tags": []
          },
          "execution_count": 18
        }
      ]
    },
    {
      "cell_type": "markdown",
      "metadata": {
        "id": "zJ12pbRAkW4G",
        "colab_type": "text"
      },
      "source": [
        "## One-way anova\n",
        "\n",
        "p-value>0.05,不棄卻H0假說\n",
        "\n",
        "即群體平均數無明顯差異"
      ]
    },
    {
      "cell_type": "code",
      "metadata": {
        "id": "-pstvQJWkMg1",
        "colab_type": "code",
        "colab": {}
      },
      "source": [
        ""
      ],
      "execution_count": 0,
      "outputs": []
    }
  ]
}