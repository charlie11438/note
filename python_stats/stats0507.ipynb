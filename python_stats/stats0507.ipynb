{
  "nbformat": 4,
  "nbformat_minor": 0,
  "metadata": {
    "colab": {
      "name": "stats0507.ipynb",
      "version": "0.3.2",
      "provenance": [],
      "collapsed_sections": [],
      "include_colab_link": true
    },
    "kernelspec": {
      "name": "python3",
      "display_name": "Python 3"
    }
  },
  "cells": [
    {
      "cell_type": "markdown",
      "metadata": {
        "id": "view-in-github",
        "colab_type": "text"
      },
      "source": [
        "<a href=\"https://colab.research.google.com/github/charlie11438/note/blob/master/python_stats/stats0507.ipynb\" target=\"_parent\"><img src=\"https://colab.research.google.com/assets/colab-badge.svg\" alt=\"Open In Colab\"/></a>"
      ]
    },
    {
      "cell_type": "markdown",
      "metadata": {
        "id": "8qAOiVSLEsL3",
        "colab_type": "text"
      },
      "source": [
        "# 統計分析筆記\n",
        "\n",
        "## 2019-05-06 basic\n",
        "\n",
        "## 2019-05-07 process output"
      ]
    },
    {
      "cell_type": "code",
      "metadata": {
        "id": "fkn1SPBFCgeR",
        "colab_type": "code",
        "colab": {}
      },
      "source": [
        "#導入模組\n",
        "import numpy as np\n",
        "from scipy import stats\n",
        "import pandas as pd\n",
        "import matplotlib.pyplot as plt\n",
        "import seaborn as sns\n",
        "import math\n",
        "import random"
      ],
      "execution_count": 0,
      "outputs": []
    },
    {
      "cell_type": "code",
      "metadata": {
        "id": "adrXv4rbCmA3",
        "colab_type": "code",
        "colab": {}
      },
      "source": [
        "#產生亂數資料(常態分配)\n",
        "np.random.seed(2345)\n",
        "n1=list(2.5*np.random.randn(1000)*6.25)\n",
        "n2=list(3.5*np.random.randn(1000)*7.25)\n",
        "sam1=random.sample(n1,20)\n",
        "sam2=random.sample(n2,20)"
      ],
      "execution_count": 0,
      "outputs": []
    },
    {
      "cell_type": "code",
      "metadata": {
        "id": "ZQQ3X4AuDiii",
        "colab_type": "code",
        "colab": {}
      },
      "source": [
        "#產生DataFrame\n",
        "original=pd.DataFrame()\n",
        "original['sample1']=sam1\n",
        "original['sample2']=sam2"
      ],
      "execution_count": 0,
      "outputs": []
    },
    {
      "cell_type": "code",
      "metadata": {
        "id": "ghPAV_jvDpY2",
        "colab_type": "code",
        "outputId": "706e0790-0eb1-4c3c-a627-ca12f4482740",
        "colab": {
          "base_uri": "https://localhost:8080/",
          "height": 119
        }
      },
      "source": [
        "print(original.head())"
      ],
      "execution_count": 5,
      "outputs": [
        {
          "output_type": "stream",
          "text": [
            "     sample1    sample2\n",
            "0 -12.009942  -3.817856\n",
            "1  10.796695   0.607479\n",
            "2   3.004912  27.997778\n",
            "3   4.670868  -0.465240\n",
            "4  -9.869114 -16.666827\n"
          ],
          "name": "stdout"
        }
      ]
    },
    {
      "cell_type": "markdown",
      "metadata": {
        "id": "PPJ45YvEE305",
        "colab_type": "text"
      },
      "source": [
        "# 敘述性統計"
      ]
    },
    {
      "cell_type": "code",
      "metadata": {
        "id": "D0uSeTfDEpe9",
        "colab_type": "code",
        "colab": {}
      },
      "source": [
        "des=pd.DataFrame(stats.describe(original.loc[:,'sample1']))\n",
        "i=['n','Min-Max','Mean','Variance','skewness','kurtosis']\n",
        "des.index=i\n",
        "des=des.rename(columns={0:'sample1'})"
      ],
      "execution_count": 0,
      "outputs": []
    },
    {
      "cell_type": "code",
      "metadata": {
        "id": "kxsW_ypPFHao",
        "colab_type": "code",
        "colab": {}
      },
      "source": [
        "sam2des=np.array(stats.describe(original.loc[:,'sample2']))\n",
        "des['sample2']=sam2des"
      ],
      "execution_count": 0,
      "outputs": []
    },
    {
      "cell_type": "code",
      "metadata": {
        "id": "XmnFzWG1eTJB",
        "colab_type": "code",
        "outputId": "aebd29cf-66d1-4426-a5f1-88655e4d48de",
        "colab": {
          "base_uri": "https://localhost:8080/",
          "height": 235
        }
      },
      "source": [
        "des"
      ],
      "execution_count": 8,
      "outputs": [
        {
          "output_type": "execute_result",
          "data": {
            "text/html": [
              "<div>\n",
              "<style scoped>\n",
              "    .dataframe tbody tr th:only-of-type {\n",
              "        vertical-align: middle;\n",
              "    }\n",
              "\n",
              "    .dataframe tbody tr th {\n",
              "        vertical-align: top;\n",
              "    }\n",
              "\n",
              "    .dataframe thead th {\n",
              "        text-align: right;\n",
              "    }\n",
              "</style>\n",
              "<table border=\"1\" class=\"dataframe\">\n",
              "  <thead>\n",
              "    <tr style=\"text-align: right;\">\n",
              "      <th></th>\n",
              "      <th>sample1</th>\n",
              "      <th>sample2</th>\n",
              "    </tr>\n",
              "  </thead>\n",
              "  <tbody>\n",
              "    <tr>\n",
              "      <th>n</th>\n",
              "      <td>20</td>\n",
              "      <td>20</td>\n",
              "    </tr>\n",
              "    <tr>\n",
              "      <th>Min-Max</th>\n",
              "      <td>(-23.723601414787115, 12.050171179538847)</td>\n",
              "      <td>(-63.14806067751838, 29.9557582297499)</td>\n",
              "    </tr>\n",
              "    <tr>\n",
              "      <th>Mean</th>\n",
              "      <td>-2.51426</td>\n",
              "      <td>-13.4031</td>\n",
              "    </tr>\n",
              "    <tr>\n",
              "      <th>Variance</th>\n",
              "      <td>111.988</td>\n",
              "      <td>679.629</td>\n",
              "    </tr>\n",
              "    <tr>\n",
              "      <th>skewness</th>\n",
              "      <td>-0.357717</td>\n",
              "      <td>0.0237565</td>\n",
              "    </tr>\n",
              "    <tr>\n",
              "      <th>kurtosis</th>\n",
              "      <td>-1.00424</td>\n",
              "      <td>-0.76887</td>\n",
              "    </tr>\n",
              "  </tbody>\n",
              "</table>\n",
              "</div>"
            ],
            "text/plain": [
              "                                            sample1  \\\n",
              "n                                                20   \n",
              "Min-Max   (-23.723601414787115, 12.050171179538847)   \n",
              "Mean                                       -2.51426   \n",
              "Variance                                    111.988   \n",
              "skewness                                  -0.357717   \n",
              "kurtosis                                   -1.00424   \n",
              "\n",
              "                                         sample2  \n",
              "n                                             20  \n",
              "Min-Max   (-63.14806067751838, 29.9557582297499)  \n",
              "Mean                                    -13.4031  \n",
              "Variance                                 679.629  \n",
              "skewness                               0.0237565  \n",
              "kurtosis                                -0.76887  "
            ]
          },
          "metadata": {
            "tags": []
          },
          "execution_count": 8
        }
      ]
    },
    {
      "cell_type": "code",
      "metadata": {
        "id": "MyxLXw-DFNI7",
        "colab_type": "code",
        "outputId": "472a06a9-7ee8-4985-b319-363de41932aa",
        "colab": {
          "base_uri": "https://localhost:8080/",
          "height": 839
        }
      },
      "source": [
        "z0=plt.figure(figsize=(15,14))\n",
        "z0.add_subplot(2,1,1)\n",
        "sns.distplot(original.loc[:,'sample1'])\n",
        "plt.title('sample1 distribution plot')\n",
        "z0.add_subplot(2,1,2)\n",
        "sns.distplot(original.loc[:,'sample2'])\n",
        "plt.title('sample2 distribution plot')\n",
        "plt.show()"
      ],
      "execution_count": 9,
      "outputs": [
        {
          "output_type": "display_data",
          "data": {
            "image/png": "[encoded data removed]",
            "text/plain": [
              "<Figure size 1080x1008 with 2 Axes>"
            ]
          },
          "metadata": {
            "tags": []
          }
        }
      ]
    },
    {
      "cell_type": "markdown",
      "metadata": {
        "id": "t6c2PcgmJw8d",
        "colab_type": "text"
      },
      "source": [
        "# 敘述性統計\n",
        "\n",
        "兩者皆為右偏,近似常態分配\n",
        "\n",
        "sample1為低闊峰,sample2為高峽峰\n",
        "\n",
        "sample2變異程度大於sample1\n"
      ]
    },
    {
      "cell_type": "markdown",
      "metadata": {
        "id": "kvqjSxBpGZWg",
        "colab_type": "text"
      },
      "source": [
        "# 信賴區間\n",
        "\n",
        "stats.sem 計算標準誤\n",
        "\n",
        "stats.t.interval 計算95%信賴區間\n",
        "\n",
        "stats.t.interval(信賴係數,自由度,mean,se(x))\n",
        "\n",
        "20為小樣本,使用t分配"
      ]
    },
    {
      "cell_type": "code",
      "metadata": {
        "id": "RI8F5RuxF2DD",
        "colab_type": "code",
        "outputId": "d3087833-37e5-4072-8c2f-8015c7f2b114",
        "colab": {
          "base_uri": "https://localhost:8080/",
          "height": 51
        }
      },
      "source": [
        "print('sample1 95%信賴區間')\n",
        "stats.t.interval(0.95,original.index.shape[0]-1,loc=original.loc[:,'sample1'].mean(),scale=stats.sem(original.loc[:,'sample1']))"
      ],
      "execution_count": 10,
      "outputs": [
        {
          "output_type": "stream",
          "text": [
            "sample1 95%信賴區間\n"
          ],
          "name": "stdout"
        },
        {
          "output_type": "execute_result",
          "data": {
            "text/plain": [
              "(-7.466997641495119, 2.438485869653325)"
            ]
          },
          "metadata": {
            "tags": []
          },
          "execution_count": 10
        }
      ]
    },
    {
      "cell_type": "code",
      "metadata": {
        "id": "1s9OIm-ZG-fR",
        "colab_type": "code",
        "outputId": "d6b9118c-2720-4c82-aab5-fce4f3304acc",
        "colab": {
          "base_uri": "https://localhost:8080/",
          "height": 51
        }
      },
      "source": [
        "print('sample2 95%信賴區間')\n",
        "stats.t.interval(0.95,original.index.shape[0]-1,loc=original.loc[:,'sample2'].mean(),scale=stats.sem(original.loc[:,'sample2']))"
      ],
      "execution_count": 11,
      "outputs": [
        {
          "output_type": "stream",
          "text": [
            "sample2 95%信賴區間\n"
          ],
          "name": "stdout"
        },
        {
          "output_type": "execute_result",
          "data": {
            "text/plain": [
              "(-25.604081547625817, -1.2021040274989847)"
            ]
          },
          "metadata": {
            "tags": []
          },
          "execution_count": 11
        }
      ]
    },
    {
      "cell_type": "markdown",
      "metadata": {
        "id": "wL47FcS7I9Un",
        "colab_type": "text"
      },
      "source": [
        "# 假說檢定\n",
        "\n",
        "設sample1群體平均數為mu1,sample2群體平均數為mu2\n",
        "\n",
        "\n",
        "\n",
        "H0:mu1=mu2\n",
        "\n",
        "\n",
        "\n",
        "H1:mu1!=mu2\n",
        "\n",
        "\n",
        "\n",
        "並設定alpha風險控制於0.05\n",
        "\n",
        "\n",
        "\n",
        "scipy的ttest_ind為雙尾檢定,檢測兩群體間的差異(假設兩群體為獨立)\n",
        "\n",
        "\n",
        "\n",
        "equal_var 預設為True,意指預設假設變異數為相同"
      ]
    },
    {
      "cell_type": "code",
      "metadata": {
        "id": "t7t8Lu_YIvMb",
        "colab_type": "code",
        "outputId": "bb410e13-a9c4-4730-e3ac-e3610b78b035",
        "colab": {
          "base_uri": "https://localhost:8080/",
          "height": 111
        }
      },
      "source": [
        "hypo=np.array(stats.ttest_ind(original.loc[:,'sample1'],original.loc[:,'sample2']))\n",
        "hypodf=pd.DataFrame()\n",
        "hypodf['value']=hypo\n",
        "i=['statistic','p-value']\n",
        "hypodf.index=i\n",
        "hypodf"
      ],
      "execution_count": 12,
      "outputs": [
        {
          "output_type": "execute_result",
          "data": {
            "text/html": [
              "<div>\n",
              "<style scoped>\n",
              "    .dataframe tbody tr th:only-of-type {\n",
              "        vertical-align: middle;\n",
              "    }\n",
              "\n",
              "    .dataframe tbody tr th {\n",
              "        vertical-align: top;\n",
              "    }\n",
              "\n",
              "    .dataframe thead th {\n",
              "        text-align: right;\n",
              "    }\n",
              "</style>\n",
              "<table border=\"1\" class=\"dataframe\">\n",
              "  <thead>\n",
              "    <tr style=\"text-align: right;\">\n",
              "      <th></th>\n",
              "      <th>value</th>\n",
              "    </tr>\n",
              "  </thead>\n",
              "  <tbody>\n",
              "    <tr>\n",
              "      <th>statistic</th>\n",
              "      <td>1.730768</td>\n",
              "    </tr>\n",
              "    <tr>\n",
              "      <th>p-value</th>\n",
              "      <td>0.091607</td>\n",
              "    </tr>\n",
              "  </tbody>\n",
              "</table>\n",
              "</div>"
            ],
            "text/plain": [
              "              value\n",
              "statistic  1.730768\n",
              "p-value    0.091607"
            ]
          },
          "metadata": {
            "tags": []
          },
          "execution_count": 12
        }
      ]
    },
    {
      "cell_type": "markdown",
      "metadata": {
        "id": "j-SCcLjiKcI6",
        "colab_type": "text"
      },
      "source": [
        "# 假說檢定\n",
        "\n",
        "p-value 為 0.431,大於0.05,顯著\n",
        "\n",
        "因此不棄卻H0"
      ]
    },
    {
      "cell_type": "markdown",
      "metadata": {
        "id": "e0ehp2m7hmZm",
        "colab_type": "text"
      },
      "source": [
        "## one-way Anova\n",
        "\n",
        "### 單因子變異數分析\n",
        "\n",
        "\n",
        "檢測虛無假說群體間群體平均數無差異\n",
        "\n",
        "\n",
        "H0:mu1=mu2=mu3\n",
        "\n",
        "\n",
        "H1:至少有一等號不成立\n",
        "\n",
        "\n",
        "alpha風險控制於0.05"
      ]
    },
    {
      "cell_type": "code",
      "metadata": {
        "id": "ziJ2tw5BhNOL",
        "colab_type": "code",
        "outputId": "91ae474b-67b0-4623-8e3c-cc1e235871bd",
        "colab": {
          "base_uri": "https://localhost:8080/",
          "height": 204
        }
      },
      "source": [
        "n3=list(4.5*np.random.randn(1000)*8.25)\n",
        "original['sample3']=random.sample(n3,20)\n",
        "original.head()"
      ],
      "execution_count": 13,
      "outputs": [
        {
          "output_type": "execute_result",
          "data": {
            "text/html": [
              "<div>\n",
              "<style scoped>\n",
              "    .dataframe tbody tr th:only-of-type {\n",
              "        vertical-align: middle;\n",
              "    }\n",
              "\n",
              "    .dataframe tbody tr th {\n",
              "        vertical-align: top;\n",
              "    }\n",
              "\n",
              "    .dataframe thead th {\n",
              "        text-align: right;\n",
              "    }\n",
              "</style>\n",
              "<table border=\"1\" class=\"dataframe\">\n",
              "  <thead>\n",
              "    <tr style=\"text-align: right;\">\n",
              "      <th></th>\n",
              "      <th>sample1</th>\n",
              "      <th>sample2</th>\n",
              "      <th>sample3</th>\n",
              "    </tr>\n",
              "  </thead>\n",
              "  <tbody>\n",
              "    <tr>\n",
              "      <th>0</th>\n",
              "      <td>-12.009942</td>\n",
              "      <td>-3.817856</td>\n",
              "      <td>3.224894</td>\n",
              "    </tr>\n",
              "    <tr>\n",
              "      <th>1</th>\n",
              "      <td>10.796695</td>\n",
              "      <td>0.607479</td>\n",
              "      <td>40.933605</td>\n",
              "    </tr>\n",
              "    <tr>\n",
              "      <th>2</th>\n",
              "      <td>3.004912</td>\n",
              "      <td>27.997778</td>\n",
              "      <td>-46.057956</td>\n",
              "    </tr>\n",
              "    <tr>\n",
              "      <th>3</th>\n",
              "      <td>4.670868</td>\n",
              "      <td>-0.465240</td>\n",
              "      <td>-46.515642</td>\n",
              "    </tr>\n",
              "    <tr>\n",
              "      <th>4</th>\n",
              "      <td>-9.869114</td>\n",
              "      <td>-16.666827</td>\n",
              "      <td>62.605239</td>\n",
              "    </tr>\n",
              "  </tbody>\n",
              "</table>\n",
              "</div>"
            ],
            "text/plain": [
              "     sample1    sample2    sample3\n",
              "0 -12.009942  -3.817856   3.224894\n",
              "1  10.796695   0.607479  40.933605\n",
              "2   3.004912  27.997778 -46.057956\n",
              "3   4.670868  -0.465240 -46.515642\n",
              "4  -9.869114 -16.666827  62.605239"
            ]
          },
          "metadata": {
            "tags": []
          },
          "execution_count": 13
        }
      ]
    },
    {
      "cell_type": "code",
      "metadata": {
        "id": "dAJPONXJJj6L",
        "colab_type": "code",
        "outputId": "2cca1a7d-369e-4cc8-855b-d87dff117762",
        "colab": {
          "base_uri": "https://localhost:8080/",
          "height": 235
        }
      },
      "source": [
        "sam3des=np.array(stats.describe(original.loc[:,'sample3']))\n",
        "des['sample3']=sam3des\n",
        "des"
      ],
      "execution_count": 14,
      "outputs": [
        {
          "output_type": "execute_result",
          "data": {
            "text/html": [
              "<div>\n",
              "<style scoped>\n",
              "    .dataframe tbody tr th:only-of-type {\n",
              "        vertical-align: middle;\n",
              "    }\n",
              "\n",
              "    .dataframe tbody tr th {\n",
              "        vertical-align: top;\n",
              "    }\n",
              "\n",
              "    .dataframe thead th {\n",
              "        text-align: right;\n",
              "    }\n",
              "</style>\n",
              "<table border=\"1\" class=\"dataframe\">\n",
              "  <thead>\n",
              "    <tr style=\"text-align: right;\">\n",
              "      <th></th>\n",
              "      <th>sample1</th>\n",
              "      <th>sample2</th>\n",
              "      <th>sample3</th>\n",
              "    </tr>\n",
              "  </thead>\n",
              "  <tbody>\n",
              "    <tr>\n",
              "      <th>n</th>\n",
              "      <td>20</td>\n",
              "      <td>20</td>\n",
              "      <td>20</td>\n",
              "    </tr>\n",
              "    <tr>\n",
              "      <th>Min-Max</th>\n",
              "      <td>(-23.723601414787115, 12.050171179538847)</td>\n",
              "      <td>(-63.14806067751838, 29.9557582297499)</td>\n",
              "      <td>(-89.30674644582739, 62.60523878005767)</td>\n",
              "    </tr>\n",
              "    <tr>\n",
              "      <th>Mean</th>\n",
              "      <td>-2.51426</td>\n",
              "      <td>-13.4031</td>\n",
              "      <td>-23.3512</td>\n",
              "    </tr>\n",
              "    <tr>\n",
              "      <th>Variance</th>\n",
              "      <td>111.988</td>\n",
              "      <td>679.629</td>\n",
              "      <td>1583.03</td>\n",
              "    </tr>\n",
              "    <tr>\n",
              "      <th>skewness</th>\n",
              "      <td>-0.357717</td>\n",
              "      <td>0.0237565</td>\n",
              "      <td>0.53935</td>\n",
              "    </tr>\n",
              "    <tr>\n",
              "      <th>kurtosis</th>\n",
              "      <td>-1.00424</td>\n",
              "      <td>-0.76887</td>\n",
              "      <td>-0.141901</td>\n",
              "    </tr>\n",
              "  </tbody>\n",
              "</table>\n",
              "</div>"
            ],
            "text/plain": [
              "                                            sample1  \\\n",
              "n                                                20   \n",
              "Min-Max   (-23.723601414787115, 12.050171179538847)   \n",
              "Mean                                       -2.51426   \n",
              "Variance                                    111.988   \n",
              "skewness                                  -0.357717   \n",
              "kurtosis                                   -1.00424   \n",
              "\n",
              "                                         sample2  \\\n",
              "n                                             20   \n",
              "Min-Max   (-63.14806067751838, 29.9557582297499)   \n",
              "Mean                                    -13.4031   \n",
              "Variance                                 679.629   \n",
              "skewness                               0.0237565   \n",
              "kurtosis                                -0.76887   \n",
              "\n",
              "                                          sample3  \n",
              "n                                              20  \n",
              "Min-Max   (-89.30674644582739, 62.60523878005767)  \n",
              "Mean                                     -23.3512  \n",
              "Variance                                  1583.03  \n",
              "skewness                                  0.53935  \n",
              "kurtosis                                -0.141901  "
            ]
          },
          "metadata": {
            "tags": []
          },
          "execution_count": 14
        }
      ]
    },
    {
      "cell_type": "code",
      "metadata": {
        "id": "g3KzooVficWs",
        "colab_type": "code",
        "outputId": "80012d47-02f3-42a6-d03a-cb565a4fc170",
        "colab": {
          "base_uri": "https://localhost:8080/",
          "height": 51
        }
      },
      "source": [
        "print('sample3 95%信賴區間')\n",
        "stats.t.interval(0.95,original.index.shape[0]-1,loc=original.loc[:,'sample3'].mean(),scale=stats.sem(original.loc[:,'sample3']))"
      ],
      "execution_count": 15,
      "outputs": [
        {
          "output_type": "stream",
          "text": [
            "sample3 95%信賴區間\n"
          ],
          "name": "stdout"
        },
        {
          "output_type": "execute_result",
          "data": {
            "text/plain": [
              "(-41.97226020537398, -4.730236190526895)"
            ]
          },
          "metadata": {
            "tags": []
          },
          "execution_count": 15
        }
      ]
    },
    {
      "cell_type": "code",
      "metadata": {
        "id": "e1L_AHggjHGk",
        "colab_type": "code",
        "outputId": "cde78a01-b641-48c5-8405-7f92e7384e74",
        "colab": {
          "base_uri": "https://localhost:8080/",
          "height": 34
        }
      },
      "source": [
        "owanova=np.array(stats.f_oneway(original.loc[:,'sample1'],original.loc[:,'sample2'],original.loc[:,'sample3']))\n",
        "OneWay=pd.DataFrame()\n",
        "OneWay['value']=owanova\n",
        "OneWay.index=['statistics','p-value']\n",
        "if float(OneWay.loc[OneWay.index=='p-value','value'])>0.05:\n",
        "  print('not reject H0')\n",
        "else:\n",
        "  print('reject H0')"
      ],
      "execution_count": 16,
      "outputs": [
        {
          "output_type": "stream",
          "text": [
            "not reject H0\n"
          ],
          "name": "stdout"
        }
      ]
    },
    {
      "cell_type": "markdown",
      "metadata": {
        "id": "zJ12pbRAkW4G",
        "colab_type": "text"
      },
      "source": [
        "## One-way anova\n",
        "\n",
        "p-value>0.05,不棄卻H0假說\n",
        "\n",
        "即群體平均數無明顯差異"
      ]
    },
    {
      "cell_type": "code",
      "metadata": {
        "id": "-pstvQJWkMg1",
        "colab_type": "code",
        "colab": {}
      },
      "source": [
        ""
      ],
      "execution_count": 0,
      "outputs": []
    }
  ]
}