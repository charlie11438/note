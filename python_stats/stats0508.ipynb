{
  "nbformat": 4,
  "nbformat_minor": 0,
  "metadata": {
    "colab": {
      "name": "stats0508.ipynb",
      "version": "0.3.2",
      "provenance": [],
      "collapsed_sections": [],
      "include_colab_link": true
    },
    "kernelspec": {
      "name": "python3",
      "display_name": "Python 3"
    }
  },
  "cells": [
    {
      "cell_type": "markdown",
      "metadata": {
        "id": "view-in-github",
        "colab_type": "text"
      },
      "source": [
        "<a href=\"https://colab.research.google.com/github/charlie11438/note/blob/master/python_stats/stats0508.ipynb\" target=\"_parent\"><img src=\"https://colab.research.google.com/assets/colab-badge.svg\" alt=\"Open In Colab\"/></a>"
      ]
    },
    {
      "cell_type": "markdown",
      "metadata": {
        "id": "D-UYfwCKtV0K",
        "colab_type": "text"
      },
      "source": [
        "# python統計筆記\n",
        "\n",
        "## 2019-05-08\n",
        "\n",
        "大樣本檢定"
      ]
    },
    {
      "cell_type": "code",
      "metadata": {
        "id": "7k2nWljztTXv",
        "colab_type": "code",
        "colab": {}
      },
      "source": [
        "import numpy as np\n",
        "import pandas as pd\n",
        "import matplotlib.pyplot as plt\n",
        "import random\n",
        "import seaborn as sns\n",
        "import math\n",
        "from scipy import stats"
      ],
      "execution_count": 0,
      "outputs": []
    },
    {
      "cell_type": "code",
      "metadata": {
        "id": "YABBIWdDtlRb",
        "colab_type": "code",
        "colab": {}
      },
      "source": [
        "#生成隨機數據,群體平均數之差為0.5\n",
        "n1=list(3*np.random.randn(1000)*4.5)\n",
        "n2=list(3.5*np.random.randn(1000)*4.5)\n",
        "original=pd.DataFrame()\n",
        "original['sample1']=list(random.sample(n1,100))\n",
        "original['sample2']=list(random.sample(n2,100))\n"
      ],
      "execution_count": 0,
      "outputs": []
    },
    {
      "cell_type": "code",
      "metadata": {
        "id": "PXWePBUZt5vu",
        "colab_type": "code",
        "outputId": "035fbb57-9a54-4810-f6f4-e9c829db8a0d",
        "colab": {
          "base_uri": "https://localhost:8080/",
          "height": 204
        }
      },
      "source": [
        "original.head()"
      ],
      "execution_count": 15,
      "outputs": [
        {
          "output_type": "execute_result",
          "data": {
            "text/html": [
              "<div>\n",
              "<style scoped>\n",
              "    .dataframe tbody tr th:only-of-type {\n",
              "        vertical-align: middle;\n",
              "    }\n",
              "\n",
              "    .dataframe tbody tr th {\n",
              "        vertical-align: top;\n",
              "    }\n",
              "\n",
              "    .dataframe thead th {\n",
              "        text-align: right;\n",
              "    }\n",
              "</style>\n",
              "<table border=\"1\" class=\"dataframe\">\n",
              "  <thead>\n",
              "    <tr style=\"text-align: right;\">\n",
              "      <th></th>\n",
              "      <th>sample1</th>\n",
              "      <th>sample2</th>\n",
              "    </tr>\n",
              "  </thead>\n",
              "  <tbody>\n",
              "    <tr>\n",
              "      <th>0</th>\n",
              "      <td>10.290099</td>\n",
              "      <td>-9.835790</td>\n",
              "    </tr>\n",
              "    <tr>\n",
              "      <th>1</th>\n",
              "      <td>-19.812923</td>\n",
              "      <td>-6.034518</td>\n",
              "    </tr>\n",
              "    <tr>\n",
              "      <th>2</th>\n",
              "      <td>-0.226147</td>\n",
              "      <td>-29.517939</td>\n",
              "    </tr>\n",
              "    <tr>\n",
              "      <th>3</th>\n",
              "      <td>14.173404</td>\n",
              "      <td>12.762642</td>\n",
              "    </tr>\n",
              "    <tr>\n",
              "      <th>4</th>\n",
              "      <td>13.029528</td>\n",
              "      <td>12.974598</td>\n",
              "    </tr>\n",
              "  </tbody>\n",
              "</table>\n",
              "</div>"
            ],
            "text/plain": [
              "     sample1    sample2\n",
              "0  10.290099  -9.835790\n",
              "1 -19.812923  -6.034518\n",
              "2  -0.226147 -29.517939\n",
              "3  14.173404  12.762642\n",
              "4  13.029528  12.974598"
            ]
          },
          "metadata": {
            "tags": []
          },
          "execution_count": 15
        }
      ]
    },
    {
      "cell_type": "markdown",
      "metadata": {
        "id": "42EUkL-Bt81W",
        "colab_type": "text"
      },
      "source": [
        "## 敘述性統計"
      ]
    },
    {
      "cell_type": "code",
      "metadata": {
        "id": "xUJ0xOo-t7G2",
        "colab_type": "code",
        "colab": {}
      },
      "source": [
        "descri=pd.DataFrame()\n",
        "des1=np.array(stats.describe(original.loc[:,'sample1']))\n",
        "des2=np.array(stats.describe(original.loc[:,'sample2']))\n",
        "indexlist=['n','(min,max)','mean','variance','skewness','kurtosis']\n",
        "descri['sample1']=des1\n",
        "descri['sample2']=des2\n",
        "descri.index=indexlist"
      ],
      "execution_count": 0,
      "outputs": []
    },
    {
      "cell_type": "code",
      "metadata": {
        "id": "_kYD5nScuHr-",
        "colab_type": "code",
        "outputId": "a9d0652e-5a0d-49d8-c992-9ba5cf5e16e3",
        "colab": {
          "base_uri": "https://localhost:8080/",
          "height": 235
        }
      },
      "source": [
        "descri"
      ],
      "execution_count": 17,
      "outputs": [
        {
          "output_type": "execute_result",
          "data": {
            "text/html": [
              "<div>\n",
              "<style scoped>\n",
              "    .dataframe tbody tr th:only-of-type {\n",
              "        vertical-align: middle;\n",
              "    }\n",
              "\n",
              "    .dataframe tbody tr th {\n",
              "        vertical-align: top;\n",
              "    }\n",
              "\n",
              "    .dataframe thead th {\n",
              "        text-align: right;\n",
              "    }\n",
              "</style>\n",
              "<table border=\"1\" class=\"dataframe\">\n",
              "  <thead>\n",
              "    <tr style=\"text-align: right;\">\n",
              "      <th></th>\n",
              "      <th>sample1</th>\n",
              "      <th>sample2</th>\n",
              "    </tr>\n",
              "  </thead>\n",
              "  <tbody>\n",
              "    <tr>\n",
              "      <th>n</th>\n",
              "      <td>100</td>\n",
              "      <td>100</td>\n",
              "    </tr>\n",
              "    <tr>\n",
              "      <th>(min,max)</th>\n",
              "      <td>(-31.96508176667532, 25.419078941758222)</td>\n",
              "      <td>(-39.72365867249391, 38.79382910949138)</td>\n",
              "    </tr>\n",
              "    <tr>\n",
              "      <th>mean</th>\n",
              "      <td>-1.30216</td>\n",
              "      <td>0.917582</td>\n",
              "    </tr>\n",
              "    <tr>\n",
              "      <th>variance</th>\n",
              "      <td>196.073</td>\n",
              "      <td>288.261</td>\n",
              "    </tr>\n",
              "    <tr>\n",
              "      <th>skewness</th>\n",
              "      <td>-0.283092</td>\n",
              "      <td>-0.0664316</td>\n",
              "    </tr>\n",
              "    <tr>\n",
              "      <th>kurtosis</th>\n",
              "      <td>-0.830948</td>\n",
              "      <td>-0.704084</td>\n",
              "    </tr>\n",
              "  </tbody>\n",
              "</table>\n",
              "</div>"
            ],
            "text/plain": [
              "                                            sample1  \\\n",
              "n                                               100   \n",
              "(min,max)  (-31.96508176667532, 25.419078941758222)   \n",
              "mean                                       -1.30216   \n",
              "variance                                    196.073   \n",
              "skewness                                  -0.283092   \n",
              "kurtosis                                  -0.830948   \n",
              "\n",
              "                                           sample2  \n",
              "n                                              100  \n",
              "(min,max)  (-39.72365867249391, 38.79382910949138)  \n",
              "mean                                      0.917582  \n",
              "variance                                   288.261  \n",
              "skewness                                -0.0664316  \n",
              "kurtosis                                 -0.704084  "
            ]
          },
          "metadata": {
            "tags": []
          },
          "execution_count": 17
        }
      ]
    },
    {
      "cell_type": "code",
      "metadata": {
        "id": "PkGh8uv2un4R",
        "colab_type": "code",
        "outputId": "441b7403-edeb-426e-f98a-348af53f0b46",
        "colab": {
          "base_uri": "https://localhost:8080/",
          "height": 839
        }
      },
      "source": [
        "z0=plt.figure(figsize=(15,14))\n",
        "z0.add_subplot(2,1,1)\n",
        "sns.distplot(original.loc[:,'sample1'])\n",
        "plt.title('sample1 distribution')\n",
        "z0.add_subplot(2,1,2)\n",
        "sns.distplot(original.loc[:,'sample2'])\n",
        "plt.title('sample2 distribution')\n",
        "plt.show()"
      ],
      "execution_count": 18,
      "outputs": [
        {
          "output_type": "display_data",
          "data": {
            "image/png": "[encoded data removed]",
            "text/plain": [
              "<Figure size 1080x1008 with 2 Axes>"
            ]
          },
          "metadata": {
            "tags": []
          }
        }
      ]
    },
    {
      "cell_type": "markdown",
      "metadata": {
        "id": "Yh1y5hQBvCw5",
        "colab_type": "text"
      },
      "source": [
        "# 95%信賴區間\n",
        "\n",
        "stats.norm.interval(alpha,loc,scale)\n",
        "\n",
        "alpha=信賴係數\n",
        "\n",
        "loc=mean\n",
        "\n",
        "scale=標準誤"
      ]
    },
    {
      "cell_type": "code",
      "metadata": {
        "id": "0fzrVE1suwM9",
        "colab_type": "code",
        "outputId": "5026c896-65c7-4a9e-f33a-51db220f6788",
        "colab": {
          "base_uri": "https://localhost:8080/",
          "height": 51
        }
      },
      "source": [
        "print('sample1 95% 信賴區間:')\n",
        "stats.norm.interval(0.05,loc=original.loc[:,'sample1'].mean(),scale=stats.sem(original.loc[:,'sample1']))"
      ],
      "execution_count": 19,
      "outputs": [
        {
          "output_type": "stream",
          "text": [
            "sample1 95% 信賴區間:\n"
          ],
          "name": "stdout"
        },
        {
          "output_type": "execute_result",
          "data": {
            "text/plain": [
              "(-1.3899663459749616, -1.2143546923130037)"
            ]
          },
          "metadata": {
            "tags": []
          },
          "execution_count": 19
        }
      ]
    },
    {
      "cell_type": "code",
      "metadata": {
        "id": "B97PFzNVvhgf",
        "colab_type": "code",
        "outputId": "90ec0954-78d7-4997-81fe-e86e11f1a459",
        "colab": {
          "base_uri": "https://localhost:8080/",
          "height": 51
        }
      },
      "source": [
        "print('sample2 95% 信賴區間:')\n",
        "stats.norm.interval(0.05,loc=original.loc[:,'sample2'].mean(),scale=stats.sem(original.loc[:,'sample2']))"
      ],
      "execution_count": 20,
      "outputs": [
        {
          "output_type": "stream",
          "text": [
            "sample2 95% 信賴區間:\n"
          ],
          "name": "stdout"
        },
        {
          "output_type": "execute_result",
          "data": {
            "text/plain": [
              "(0.8111170993291479, 1.0240475095907386)"
            ]
          },
          "metadata": {
            "tags": []
          },
          "execution_count": 20
        }
      ]
    },
    {
      "cell_type": "markdown",
      "metadata": {
        "id": "6kVOVYVew4-j",
        "colab_type": "text"
      },
      "source": [
        "# 假說檢定\n",
        "\n",
        "H0:mu1-mu2=0\n",
        "\n",
        "H1:mu1-mu2!=0\n",
        "\n",
        "\n",
        "檢定量z*=(xbar-ybar-0)/(sqrt(s1^2/n1)+sqrt(s2^2/n2))\n",
        "\n",
        "alpha=0.05\n",
        "\n",
        "雙尾檢定:\n",
        "\n",
        "if |z*|>=z(alpha/2) then reject H0\n",
        "\n",
        "else not reject H0\n"
      ]
    },
    {
      "cell_type": "code",
      "metadata": {
        "id": "758M5HYDvrrd",
        "colab_type": "code",
        "colab": {}
      },
      "source": [
        "def zstar(data1,data2):\n",
        "  import math\n",
        "  up=data1.mean()/data2.mean()\n",
        "  s1=data1.std()\n",
        "  s2=data2.std()\n",
        "  n1=len(data1)\n",
        "  n2=len(data2)\n",
        "  down=math.sqrt((s1**2)/n1)+math.sqrt((s2**2)/n2)\n",
        "  return up/down"
      ],
      "execution_count": 0,
      "outputs": []
    },
    {
      "cell_type": "code",
      "metadata": {
        "id": "isroA_VG02zN",
        "colab_type": "code",
        "outputId": "46a0d058-63e8-4773-d7dd-4d4c7447ba97",
        "colab": {
          "base_uri": "https://localhost:8080/",
          "height": 51
        }
      },
      "source": [
        "alpha=0.05\n",
        "teststats=zstar(original.loc[:,'sample1'],original.loc[:,'sample2'])\n",
        "zalpha=stats.norm.pdf(alpha/2)\n",
        "if math.fabs(teststats)>=zalpha:\n",
        "  print('|',teststats,'|','>=',zalpha)\n",
        "  print('reject H0')\n",
        "else:\n",
        "  print(teststats,'<',zalpha)\n",
        "  print('not reject H0')"
      ],
      "execution_count": 23,
      "outputs": [
        {
          "output_type": "stream",
          "text": [
            "| -0.4580637591923145 | >= 0.39881763041638185\n",
            "reject H0\n"
          ],
          "name": "stdout"
        }
      ]
    },
    {
      "cell_type": "code",
      "metadata": {
        "id": "VF_lSxaW1-EJ",
        "colab_type": "code",
        "colab": {}
      },
      "source": [
        ""
      ],
      "execution_count": 0,
      "outputs": []
    }
  ]
}