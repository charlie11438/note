{
  "nbformat": 4,
  "nbformat_minor": 0,
  "metadata": {
    "colab": {
      "name": "stats0508.ipynb",
      "version": "0.3.2",
      "provenance": [],
      "collapsed_sections": [],
      "include_colab_link": true
    },
    "kernelspec": {
      "name": "python3",
      "display_name": "Python 3"
    }
  },
  "cells": [
    {
      "cell_type": "markdown",
      "metadata": {
        "id": "view-in-github",
        "colab_type": "text"
      },
      "source": [
        "<a href=\"https://colab.research.google.com/github/charlie11438/note/blob/master/python_stats/stats0508.ipynb\" target=\"_parent\"><img src=\"https://colab.research.google.com/assets/colab-badge.svg\" alt=\"Open In Colab\"/></a>"
      ]
    },
    {
      "cell_type": "markdown",
      "metadata": {
        "id": "D-UYfwCKtV0K",
        "colab_type": "text"
      },
      "source": [
        "# python統計筆記\n",
        "\n",
        "## 2019-05-08\n",
        "\n",
        "大樣本檢定"
      ]
    },
    {
      "cell_type": "code",
      "metadata": {
        "id": "7k2nWljztTXv",
        "colab_type": "code",
        "colab": {}
      },
      "source": [
        "import numpy as np\n",
        "import pandas as pd\n",
        "import matplotlib.pyplot as plt\n",
        "import random\n",
        "import seaborn as sns\n",
        "import math\n",
        "from scipy import stats"
      ],
      "execution_count": 0,
      "outputs": []
    },
    {
      "cell_type": "code",
      "metadata": {
        "id": "YABBIWdDtlRb",
        "colab_type": "code",
        "colab": {}
      },
      "source": [
        "#生成隨機數據\n",
        "n1=list(3*np.random.randn(1000)*4.5)\n",
        "n2=list(3.5*np.random.randn(1000)*4.5)\n",
        "original=pd.DataFrame()\n",
        "original['sample1']=list(random.sample(n1,100))\n",
        "original['sample2']=list(random.sample(n2,100))\n"
      ],
      "execution_count": 0,
      "outputs": []
    },
    {
      "cell_type": "code",
      "metadata": {
        "id": "PXWePBUZt5vu",
        "colab_type": "code",
        "outputId": "dbf2b04f-0327-45ef-94b2-71db5c08e7aa",
        "colab": {
          "base_uri": "https://localhost:8080/",
          "height": 195
        }
      },
      "source": [
        "original.head()"
      ],
      "execution_count": 3,
      "outputs": [
        {
          "output_type": "execute_result",
          "data": {
            "text/html": [
              "<div>\n",
              "<style scoped>\n",
              "    .dataframe tbody tr th:only-of-type {\n",
              "        vertical-align: middle;\n",
              "    }\n",
              "\n",
              "    .dataframe tbody tr th {\n",
              "        vertical-align: top;\n",
              "    }\n",
              "\n",
              "    .dataframe thead th {\n",
              "        text-align: right;\n",
              "    }\n",
              "</style>\n",
              "<table border=\"1\" class=\"dataframe\">\n",
              "  <thead>\n",
              "    <tr style=\"text-align: right;\">\n",
              "      <th></th>\n",
              "      <th>sample1</th>\n",
              "      <th>sample2</th>\n",
              "    </tr>\n",
              "  </thead>\n",
              "  <tbody>\n",
              "    <tr>\n",
              "      <th>0</th>\n",
              "      <td>-10.730150</td>\n",
              "      <td>-13.293053</td>\n",
              "    </tr>\n",
              "    <tr>\n",
              "      <th>1</th>\n",
              "      <td>-20.097163</td>\n",
              "      <td>5.043733</td>\n",
              "    </tr>\n",
              "    <tr>\n",
              "      <th>2</th>\n",
              "      <td>-0.080734</td>\n",
              "      <td>17.161896</td>\n",
              "    </tr>\n",
              "    <tr>\n",
              "      <th>3</th>\n",
              "      <td>-4.576666</td>\n",
              "      <td>0.960803</td>\n",
              "    </tr>\n",
              "    <tr>\n",
              "      <th>4</th>\n",
              "      <td>-14.290454</td>\n",
              "      <td>22.756505</td>\n",
              "    </tr>\n",
              "  </tbody>\n",
              "</table>\n",
              "</div>"
            ],
            "text/plain": [
              "     sample1    sample2\n",
              "0 -10.730150 -13.293053\n",
              "1 -20.097163   5.043733\n",
              "2  -0.080734  17.161896\n",
              "3  -4.576666   0.960803\n",
              "4 -14.290454  22.756505"
            ]
          },
          "metadata": {
            "tags": []
          },
          "execution_count": 3
        }
      ]
    },
    {
      "cell_type": "markdown",
      "metadata": {
        "id": "42EUkL-Bt81W",
        "colab_type": "text"
      },
      "source": [
        "## 敘述性統計"
      ]
    },
    {
      "cell_type": "code",
      "metadata": {
        "id": "xUJ0xOo-t7G2",
        "colab_type": "code",
        "colab": {}
      },
      "source": [
        "descri=pd.DataFrame()\n",
        "des1=np.array(stats.describe(original.loc[:,'sample1']))\n",
        "des2=np.array(stats.describe(original.loc[:,'sample2']))\n",
        "indexlist=['n','(min,max)','mean','variance','skewness','kurtosis']\n",
        "descri['sample1']=des1\n",
        "descri['sample2']=des2\n",
        "descri.index=indexlist"
      ],
      "execution_count": 0,
      "outputs": []
    },
    {
      "cell_type": "code",
      "metadata": {
        "id": "_kYD5nScuHr-",
        "colab_type": "code",
        "outputId": "e75a59fa-74aa-4d70-edae-0a59db55bc4d",
        "colab": {
          "base_uri": "https://localhost:8080/",
          "height": 225
        }
      },
      "source": [
        "descri"
      ],
      "execution_count": 5,
      "outputs": [
        {
          "output_type": "execute_result",
          "data": {
            "text/html": [
              "<div>\n",
              "<style scoped>\n",
              "    .dataframe tbody tr th:only-of-type {\n",
              "        vertical-align: middle;\n",
              "    }\n",
              "\n",
              "    .dataframe tbody tr th {\n",
              "        vertical-align: top;\n",
              "    }\n",
              "\n",
              "    .dataframe thead th {\n",
              "        text-align: right;\n",
              "    }\n",
              "</style>\n",
              "<table border=\"1\" class=\"dataframe\">\n",
              "  <thead>\n",
              "    <tr style=\"text-align: right;\">\n",
              "      <th></th>\n",
              "      <th>sample1</th>\n",
              "      <th>sample2</th>\n",
              "    </tr>\n",
              "  </thead>\n",
              "  <tbody>\n",
              "    <tr>\n",
              "      <th>n</th>\n",
              "      <td>100</td>\n",
              "      <td>100</td>\n",
              "    </tr>\n",
              "    <tr>\n",
              "      <th>(min,max)</th>\n",
              "      <td>(-40.704827377141264, 27.51272194144582)</td>\n",
              "      <td>(-56.7887814038731, 43.86461239097791)</td>\n",
              "    </tr>\n",
              "    <tr>\n",
              "      <th>mean</th>\n",
              "      <td>0.232966</td>\n",
              "      <td>-1.10994</td>\n",
              "    </tr>\n",
              "    <tr>\n",
              "      <th>variance</th>\n",
              "      <td>196.027</td>\n",
              "      <td>298.67</td>\n",
              "    </tr>\n",
              "    <tr>\n",
              "      <th>skewness</th>\n",
              "      <td>-0.2975</td>\n",
              "      <td>-0.203619</td>\n",
              "    </tr>\n",
              "    <tr>\n",
              "      <th>kurtosis</th>\n",
              "      <td>-0.160113</td>\n",
              "      <td>0.654936</td>\n",
              "    </tr>\n",
              "  </tbody>\n",
              "</table>\n",
              "</div>"
            ],
            "text/plain": [
              "                                            sample1  \\\n",
              "n                                               100   \n",
              "(min,max)  (-40.704827377141264, 27.51272194144582)   \n",
              "mean                                       0.232966   \n",
              "variance                                    196.027   \n",
              "skewness                                    -0.2975   \n",
              "kurtosis                                  -0.160113   \n",
              "\n",
              "                                          sample2  \n",
              "n                                             100  \n",
              "(min,max)  (-56.7887814038731, 43.86461239097791)  \n",
              "mean                                     -1.10994  \n",
              "variance                                   298.67  \n",
              "skewness                                -0.203619  \n",
              "kurtosis                                 0.654936  "
            ]
          },
          "metadata": {
            "tags": []
          },
          "execution_count": 5
        }
      ]
    },
    {
      "cell_type": "code",
      "metadata": {
        "id": "PkGh8uv2un4R",
        "colab_type": "code",
        "outputId": "fe373204-6896-48cd-861f-927849d7346b",
        "colab": {
          "base_uri": "https://localhost:8080/",
          "height": 839
        }
      },
      "source": [
        "z0=plt.figure(figsize=(15,14))\n",
        "z0.add_subplot(2,1,1)\n",
        "sns.distplot(original.loc[:,'sample1'])\n",
        "plt.title('sample1 distribution')\n",
        "z0.add_subplot(2,1,2)\n",
        "sns.distplot(original.loc[:,'sample2'])\n",
        "plt.title('sample2 distribution')\n",
        "plt.show()"
      ],
      "execution_count": 6,
      "outputs": [
        {
          "output_type": "display_data",
          "data": {
            "image/png": "[encoded data removed]",
            "text/plain": [
              "<Figure size 1080x1008 with 2 Axes>"
            ]
          },
          "metadata": {
            "tags": []
          }
        }
      ]
    },
    {
      "cell_type": "markdown",
      "metadata": {
        "id": "Yh1y5hQBvCw5",
        "colab_type": "text"
      },
      "source": [
        "# 95%信賴區間\n",
        "\n",
        "stats.norm.interval(alpha,loc,scale)\n",
        "\n",
        "alpha=信賴係數\n",
        "\n",
        "loc=mean\n",
        "\n",
        "scale=標準誤"
      ]
    },
    {
      "cell_type": "code",
      "metadata": {
        "id": "0fzrVE1suwM9",
        "colab_type": "code",
        "outputId": "03084545-1849-4842-dce0-520b6f31ba91",
        "colab": {
          "base_uri": "https://localhost:8080/",
          "height": 50
        }
      },
      "source": [
        "print('sample1 95% 信賴區間:')\n",
        "stats.norm.interval(0.05,loc=original.loc[:,'sample1'].mean(),scale=stats.sem(original.loc[:,'sample1']))"
      ],
      "execution_count": 7,
      "outputs": [
        {
          "output_type": "stream",
          "text": [
            "sample1 95% 信賴區間:\n"
          ],
          "name": "stdout"
        },
        {
          "output_type": "execute_result",
          "data": {
            "text/plain": [
              "(0.14517012115070047, 0.3207613784792076)"
            ]
          },
          "metadata": {
            "tags": []
          },
          "execution_count": 7
        }
      ]
    },
    {
      "cell_type": "code",
      "metadata": {
        "id": "B97PFzNVvhgf",
        "colab_type": "code",
        "outputId": "a0eee4bc-7581-44f8-c119-6b586b32d245",
        "colab": {
          "base_uri": "https://localhost:8080/",
          "height": 50
        }
      },
      "source": [
        "print('sample2 95% 信賴區間:')\n",
        "stats.norm.interval(0.05,loc=original.loc[:,'sample2'].mean(),scale=stats.sem(original.loc[:,'sample2']))"
      ],
      "execution_count": 8,
      "outputs": [
        {
          "output_type": "stream",
          "text": [
            "sample2 95% 信賴區間:\n"
          ],
          "name": "stdout"
        },
        {
          "output_type": "execute_result",
          "data": {
            "text/plain": [
              "(-1.2183111276033611, -1.0015704993238805)"
            ]
          },
          "metadata": {
            "tags": []
          },
          "execution_count": 8
        }
      ]
    },
    {
      "cell_type": "markdown",
      "metadata": {
        "id": "6kVOVYVew4-j",
        "colab_type": "text"
      },
      "source": [
        "# 假說檢定\n",
        "\n",
        "H0:mu1-mu2=0\n",
        "\n",
        "H1:mu1-mu2!=0\n",
        "\n",
        "\n",
        "檢定量z*=(xbar-ybar-0)/(sqrt(s1^2/n1)+sqrt(s2^2/n2))\n",
        "\n",
        "alpha=0.05\n",
        "\n",
        "雙尾檢定:\n",
        "\n",
        "abs(z*)>=z(alpha/2) reject H0"
      ]
    },
    {
      "cell_type": "code",
      "metadata": {
        "id": "758M5HYDvrrd",
        "colab_type": "code",
        "colab": {}
      },
      "source": [
        "def zstar(data1,data2):\n",
        "  import math\n",
        "  up=data1.mean()/data2.mean()\n",
        "  s1=data1.std()\n",
        "  s2=data2.std()\n",
        "  n1=len(data1)\n",
        "  n2=len(data2)\n",
        "  down=math.sqrt((s1**2)/n1)+math.sqrt((s2**2)/n2)\n",
        "  return up/down"
      ],
      "execution_count": 0,
      "outputs": []
    },
    {
      "cell_type": "code",
      "metadata": {
        "id": "isroA_VG02zN",
        "colab_type": "code",
        "outputId": "5c61a1a8-a596-4195-a10e-83b54f6e4de1",
        "colab": {
          "base_uri": "https://localhost:8080/",
          "height": 34
        }
      },
      "source": [
        "alpha=0.05\n",
        "teststats=zstar(original.loc[:,'sample1'],original.loc[:,'sample2'])\n",
        "zalpha=stats.norm.pdf(alpha/2)\n",
        "if math.fabs(teststats)>=zalpha:\n",
        "  print('reject H0')\n",
        "else:\n",
        "  print('not reject H0')"
      ],
      "execution_count": 10,
      "outputs": [
        {
          "output_type": "stream",
          "text": [
            "not reject H0\n"
          ],
          "name": "stdout"
        }
      ]
    },
    {
      "cell_type": "code",
      "metadata": {
        "id": "VF_lSxaW1-EJ",
        "colab_type": "code",
        "colab": {}
      },
      "source": [
        ""
      ],
      "execution_count": 0,
      "outputs": []
    }
  ]
}