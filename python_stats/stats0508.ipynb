{
  "nbformat": 4,
  "nbformat_minor": 0,
  "metadata": {
    "colab": {
      "name": "stats0508.ipynb",
      "version": "0.3.2",
      "provenance": [],
      "collapsed_sections": [],
      "include_colab_link": true
    },
    "kernelspec": {
      "name": "python3",
      "display_name": "Python 3"
    }
  },
  "cells": [
    {
      "cell_type": "markdown",
      "metadata": {
        "id": "view-in-github",
        "colab_type": "text"
      },
      "source": [
        "<a href=\"https://colab.research.google.com/github/charlie11438/note/blob/master/python_stats/stats0508.ipynb\" target=\"_parent\"><img src=\"https://colab.research.google.com/assets/colab-badge.svg\" alt=\"Open In Colab\"/></a>"
      ]
    },
    {
      "cell_type": "markdown",
      "metadata": {
        "id": "D-UYfwCKtV0K",
        "colab_type": "text"
      },
      "source": [
        "# python統計筆記\n",
        "\n",
        "## 2019-05-08\n",
        "\n",
        "大樣本檢定"
      ]
    },
    {
      "cell_type": "code",
      "metadata": {
        "id": "7k2nWljztTXv",
        "colab_type": "code",
        "colab": {}
      },
      "source": [
        "import numpy as np\n",
        "import pandas as pd\n",
        "import matplotlib.pyplot as plt\n",
        "import random\n",
        "import seaborn as sns\n",
        "import math\n",
        "from scipy import stats"
      ],
      "execution_count": 0,
      "outputs": []
    },
    {
      "cell_type": "code",
      "metadata": {
        "id": "YABBIWdDtlRb",
        "colab_type": "code",
        "colab": {}
      },
      "source": [
        "#生成隨機數據,群體平均數之差為0.5\n",
        "n1=list(3*np.random.randn(1000)*4.5)\n",
        "n2=list(3.5*np.random.randn(1000)*4.5)\n",
        "original=pd.DataFrame()\n",
        "original['sample1']=list(random.sample(n1,100))\n",
        "original['sample2']=list(random.sample(n2,100))\n"
      ],
      "execution_count": 0,
      "outputs": []
    },
    {
      "cell_type": "code",
      "metadata": {
        "id": "PXWePBUZt5vu",
        "colab_type": "code",
        "outputId": "02667b12-0bf5-46eb-cf9f-b403ea40b4dd",
        "colab": {
          "base_uri": "https://localhost:8080/",
          "height": 204
        }
      },
      "source": [
        "original.head()"
      ],
      "execution_count": 3,
      "outputs": [
        {
          "output_type": "execute_result",
          "data": {
            "text/html": [
              "<div>\n",
              "<style scoped>\n",
              "    .dataframe tbody tr th:only-of-type {\n",
              "        vertical-align: middle;\n",
              "    }\n",
              "\n",
              "    .dataframe tbody tr th {\n",
              "        vertical-align: top;\n",
              "    }\n",
              "\n",
              "    .dataframe thead th {\n",
              "        text-align: right;\n",
              "    }\n",
              "</style>\n",
              "<table border=\"1\" class=\"dataframe\">\n",
              "  <thead>\n",
              "    <tr style=\"text-align: right;\">\n",
              "      <th></th>\n",
              "      <th>sample1</th>\n",
              "      <th>sample2</th>\n",
              "    </tr>\n",
              "  </thead>\n",
              "  <tbody>\n",
              "    <tr>\n",
              "      <th>0</th>\n",
              "      <td>9.633984</td>\n",
              "      <td>12.010103</td>\n",
              "    </tr>\n",
              "    <tr>\n",
              "      <th>1</th>\n",
              "      <td>19.595802</td>\n",
              "      <td>1.801423</td>\n",
              "    </tr>\n",
              "    <tr>\n",
              "      <th>2</th>\n",
              "      <td>36.632713</td>\n",
              "      <td>-4.082185</td>\n",
              "    </tr>\n",
              "    <tr>\n",
              "      <th>3</th>\n",
              "      <td>4.716876</td>\n",
              "      <td>-17.981864</td>\n",
              "    </tr>\n",
              "    <tr>\n",
              "      <th>4</th>\n",
              "      <td>-33.437686</td>\n",
              "      <td>-7.282355</td>\n",
              "    </tr>\n",
              "  </tbody>\n",
              "</table>\n",
              "</div>"
            ],
            "text/plain": [
              "     sample1    sample2\n",
              "0   9.633984  12.010103\n",
              "1  19.595802   1.801423\n",
              "2  36.632713  -4.082185\n",
              "3   4.716876 -17.981864\n",
              "4 -33.437686  -7.282355"
            ]
          },
          "metadata": {
            "tags": []
          },
          "execution_count": 3
        }
      ]
    },
    {
      "cell_type": "markdown",
      "metadata": {
        "id": "42EUkL-Bt81W",
        "colab_type": "text"
      },
      "source": [
        "## 敘述性統計"
      ]
    },
    {
      "cell_type": "code",
      "metadata": {
        "id": "xUJ0xOo-t7G2",
        "colab_type": "code",
        "colab": {}
      },
      "source": [
        "descri=pd.DataFrame()\n",
        "des1=list(stats.describe(original.loc[:,'sample1']))\n",
        "des2=list(stats.describe(original.loc[:,'sample2']))\n",
        "indexlist=['n','(min,max)','mean','variance','skewness','kurtosis']\n",
        "descri['sample1']=des1\n",
        "descri['sample2']=des2\n",
        "descri.index=indexlist"
      ],
      "execution_count": 0,
      "outputs": []
    },
    {
      "cell_type": "code",
      "metadata": {
        "id": "_kYD5nScuHr-",
        "colab_type": "code",
        "outputId": "d1d8135d-7771-4a42-c93a-eb65d3cd3e85",
        "colab": {
          "base_uri": "https://localhost:8080/",
          "height": 235
        }
      },
      "source": [
        "descri"
      ],
      "execution_count": 12,
      "outputs": [
        {
          "output_type": "execute_result",
          "data": {
            "text/html": [
              "<div>\n",
              "<style scoped>\n",
              "    .dataframe tbody tr th:only-of-type {\n",
              "        vertical-align: middle;\n",
              "    }\n",
              "\n",
              "    .dataframe tbody tr th {\n",
              "        vertical-align: top;\n",
              "    }\n",
              "\n",
              "    .dataframe thead th {\n",
              "        text-align: right;\n",
              "    }\n",
              "</style>\n",
              "<table border=\"1\" class=\"dataframe\">\n",
              "  <thead>\n",
              "    <tr style=\"text-align: right;\">\n",
              "      <th></th>\n",
              "      <th>sample1</th>\n",
              "      <th>sample2</th>\n",
              "    </tr>\n",
              "  </thead>\n",
              "  <tbody>\n",
              "    <tr>\n",
              "      <th>n</th>\n",
              "      <td>100</td>\n",
              "      <td>100</td>\n",
              "    </tr>\n",
              "    <tr>\n",
              "      <th>(min,max)</th>\n",
              "      <td>(-33.437686055382315, 36.63271280981151)</td>\n",
              "      <td>(-37.388888549129305, 43.50912666440587)</td>\n",
              "    </tr>\n",
              "    <tr>\n",
              "      <th>mean</th>\n",
              "      <td>0.156859</td>\n",
              "      <td>-0.0514723</td>\n",
              "    </tr>\n",
              "    <tr>\n",
              "      <th>variance</th>\n",
              "      <td>218.851</td>\n",
              "      <td>257.612</td>\n",
              "    </tr>\n",
              "    <tr>\n",
              "      <th>skewness</th>\n",
              "      <td>0.023181</td>\n",
              "      <td>0.0134183</td>\n",
              "    </tr>\n",
              "    <tr>\n",
              "      <th>kurtosis</th>\n",
              "      <td>-0.187861</td>\n",
              "      <td>-0.0139908</td>\n",
              "    </tr>\n",
              "  </tbody>\n",
              "</table>\n",
              "</div>"
            ],
            "text/plain": [
              "                                            sample1  \\\n",
              "n                                               100   \n",
              "(min,max)  (-33.437686055382315, 36.63271280981151)   \n",
              "mean                                       0.156859   \n",
              "variance                                    218.851   \n",
              "skewness                                   0.023181   \n",
              "kurtosis                                  -0.187861   \n",
              "\n",
              "                                            sample2  \n",
              "n                                               100  \n",
              "(min,max)  (-37.388888549129305, 43.50912666440587)  \n",
              "mean                                     -0.0514723  \n",
              "variance                                    257.612  \n",
              "skewness                                  0.0134183  \n",
              "kurtosis                                 -0.0139908  "
            ]
          },
          "metadata": {
            "tags": []
          },
          "execution_count": 12
        }
      ]
    },
    {
      "cell_type": "code",
      "metadata": {
        "id": "PkGh8uv2un4R",
        "colab_type": "code",
        "outputId": "f99ef6cd-fbeb-4ff8-dfe0-b8dd6a53dcee",
        "colab": {
          "base_uri": "https://localhost:8080/",
          "height": 839
        }
      },
      "source": [
        "z0=plt.figure(figsize=(15,14))\n",
        "z0.add_subplot(2,1,1)\n",
        "sns.distplot(original.loc[:,'sample1'])\n",
        "plt.title('sample1 distribution')\n",
        "z0.add_subplot(2,1,2)\n",
        "sns.distplot(original.loc[:,'sample2'])\n",
        "plt.title('sample2 distribution')\n",
        "plt.show()"
      ],
      "execution_count": 6,
      "outputs": [
        {
          "output_type": "display_data",
          "data": {
            "image/png": "[encoded data removed]",
            "text/plain": [
              "<Figure size 1080x1008 with 2 Axes>"
            ]
          },
          "metadata": {
            "tags": []
          }
        }
      ]
    },
    {
      "cell_type": "markdown",
      "metadata": {
        "id": "Yh1y5hQBvCw5",
        "colab_type": "text"
      },
      "source": [
        "# 95%信賴區間\n",
        "\n",
        "stats.norm.interval(alpha,loc,scale)\n",
        "\n",
        "alpha=信賴係數\n",
        "\n",
        "loc=mean\n",
        "\n",
        "scale=標準誤"
      ]
    },
    {
      "cell_type": "code",
      "metadata": {
        "id": "0fzrVE1suwM9",
        "colab_type": "code",
        "outputId": "9a4308f8-891a-459b-c523-b95d53405c8a",
        "colab": {
          "base_uri": "https://localhost:8080/",
          "height": 51
        }
      },
      "source": [
        "print('sample1 95% 信賴區間:')\n",
        "stats.norm.interval(0.05,loc=original.loc[:,'sample1'].mean(),scale=stats.sem(original.loc[:,'sample1']))"
      ],
      "execution_count": 7,
      "outputs": [
        {
          "output_type": "stream",
          "text": [
            "sample1 95% 信賴區間:\n"
          ],
          "name": "stdout"
        },
        {
          "output_type": "execute_result",
          "data": {
            "text/plain": [
              "(0.06409274472831457, 0.24962465075195067)"
            ]
          },
          "metadata": {
            "tags": []
          },
          "execution_count": 7
        }
      ]
    },
    {
      "cell_type": "code",
      "metadata": {
        "id": "B97PFzNVvhgf",
        "colab_type": "code",
        "outputId": "7e1c0ebb-58bb-43f7-a913-52ba38a4bb59",
        "colab": {
          "base_uri": "https://localhost:8080/",
          "height": 51
        }
      },
      "source": [
        "print('sample2 95% 信賴區間:')\n",
        "stats.norm.interval(0.05,loc=original.loc[:,'sample2'].mean(),scale=stats.sem(original.loc[:,'sample2']))"
      ],
      "execution_count": 8,
      "outputs": [
        {
          "output_type": "stream",
          "text": [
            "sample2 95% 信賴區間:\n"
          ],
          "name": "stdout"
        },
        {
          "output_type": "execute_result",
          "data": {
            "text/plain": [
              "(-0.15211857531200074, 0.04917390215482936)"
            ]
          },
          "metadata": {
            "tags": []
          },
          "execution_count": 8
        }
      ]
    },
    {
      "cell_type": "markdown",
      "metadata": {
        "id": "6kVOVYVew4-j",
        "colab_type": "text"
      },
      "source": [
        "# 假說檢定\n",
        "\n",
        "H0:mu1-mu2=0\n",
        "\n",
        "H1:mu1-mu2!=0\n",
        "\n",
        "\n",
        "檢定量z*=(xbar-ybar-0)/(sqrt(s1^2/n1)+sqrt(s2^2/n2))\n",
        "\n",
        "alpha=0.05\n",
        "\n",
        "雙尾檢定:\n",
        "\n",
        "if |z*|>=z(alpha/2) then reject H0(In rejection region)\n",
        "\n",
        "else not reject H0\n"
      ]
    },
    {
      "cell_type": "code",
      "metadata": {
        "id": "758M5HYDvrrd",
        "colab_type": "code",
        "colab": {}
      },
      "source": [
        "def zstar(data1,data2):\n",
        "  import math\n",
        "  up=data1.mean()/data2.mean()\n",
        "  s1=data1.std()\n",
        "  s2=data2.std()\n",
        "  n1=len(data1)\n",
        "  n2=len(data2)\n",
        "  down=math.sqrt((s1**2)/n1)+math.sqrt((s2**2)/n2)\n",
        "  return up/down"
      ],
      "execution_count": 0,
      "outputs": []
    },
    {
      "cell_type": "code",
      "metadata": {
        "id": "isroA_VG02zN",
        "colab_type": "code",
        "outputId": "9d8802e1-332b-4a4d-e57d-e858ae44d577",
        "colab": {
          "base_uri": "https://localhost:8080/",
          "height": 51
        }
      },
      "source": [
        "alpha=0.05\n",
        "teststats=zstar(original.loc[:,'sample1'],original.loc[:,'sample2'])\n",
        "zalpha=stats.norm.pdf(alpha/2)\n",
        "if math.fabs(teststats)>=zalpha:\n",
        "  print('|',teststats,'|','>=',zalpha)\n",
        "  print('reject H0')\n",
        "else:\n",
        "  print(teststats,'<',zalpha)\n",
        "  print('not reject H0')"
      ],
      "execution_count": 10,
      "outputs": [
        {
          "output_type": "stream",
          "text": [
            "| -0.9880191479352602 | >= 0.39881763041638185\n",
            "reject H0\n"
          ],
          "name": "stdout"
        }
      ]
    },
    {
      "cell_type": "markdown",
      "metadata": {
        "id": "j1tPQGbIl0mr",
        "colab_type": "text"
      },
      "source": [
        "# ANOVA檢定\n",
        "\n",
        "H0:mu1=mu2=mu3\n",
        "\n",
        "H1:至少有一等號不成立\n",
        "\n",
        "alpha=0.05"
      ]
    },
    {
      "cell_type": "code",
      "metadata": {
        "id": "VF_lSxaW1-EJ",
        "colab_type": "code",
        "colab": {
          "base_uri": "https://localhost:8080/",
          "height": 204
        },
        "outputId": "659ade0b-05ff-4a1d-a2d7-a09cfac838a7"
      },
      "source": [
        "n3=list(4*np.random.randn(1000)*5)\n",
        "original['sample3']=random.sample(n3,100)\n",
        "original.head()"
      ],
      "execution_count": 14,
      "outputs": [
        {
          "output_type": "execute_result",
          "data": {
            "text/html": [
              "<div>\n",
              "<style scoped>\n",
              "    .dataframe tbody tr th:only-of-type {\n",
              "        vertical-align: middle;\n",
              "    }\n",
              "\n",
              "    .dataframe tbody tr th {\n",
              "        vertical-align: top;\n",
              "    }\n",
              "\n",
              "    .dataframe thead th {\n",
              "        text-align: right;\n",
              "    }\n",
              "</style>\n",
              "<table border=\"1\" class=\"dataframe\">\n",
              "  <thead>\n",
              "    <tr style=\"text-align: right;\">\n",
              "      <th></th>\n",
              "      <th>sample1</th>\n",
              "      <th>sample2</th>\n",
              "      <th>sample3</th>\n",
              "    </tr>\n",
              "  </thead>\n",
              "  <tbody>\n",
              "    <tr>\n",
              "      <th>0</th>\n",
              "      <td>9.633984</td>\n",
              "      <td>12.010103</td>\n",
              "      <td>-15.814976</td>\n",
              "    </tr>\n",
              "    <tr>\n",
              "      <th>1</th>\n",
              "      <td>19.595802</td>\n",
              "      <td>1.801423</td>\n",
              "      <td>-22.409811</td>\n",
              "    </tr>\n",
              "    <tr>\n",
              "      <th>2</th>\n",
              "      <td>36.632713</td>\n",
              "      <td>-4.082185</td>\n",
              "      <td>20.573157</td>\n",
              "    </tr>\n",
              "    <tr>\n",
              "      <th>3</th>\n",
              "      <td>4.716876</td>\n",
              "      <td>-17.981864</td>\n",
              "      <td>2.302910</td>\n",
              "    </tr>\n",
              "    <tr>\n",
              "      <th>4</th>\n",
              "      <td>-33.437686</td>\n",
              "      <td>-7.282355</td>\n",
              "      <td>-9.522763</td>\n",
              "    </tr>\n",
              "  </tbody>\n",
              "</table>\n",
              "</div>"
            ],
            "text/plain": [
              "     sample1    sample2    sample3\n",
              "0   9.633984  12.010103 -15.814976\n",
              "1  19.595802   1.801423 -22.409811\n",
              "2  36.632713  -4.082185  20.573157\n",
              "3   4.716876 -17.981864   2.302910\n",
              "4 -33.437686  -7.282355  -9.522763"
            ]
          },
          "metadata": {
            "tags": []
          },
          "execution_count": 14
        }
      ]
    },
    {
      "cell_type": "code",
      "metadata": {
        "id": "bUCS6oZFmvIW",
        "colab_type": "code",
        "colab": {
          "base_uri": "https://localhost:8080/",
          "height": 235
        },
        "outputId": "15fb3573-89a7-435d-beca-5d3666b18168"
      },
      "source": [
        "descri['sample3']=list(stats.describe(original.loc[:,'sample3']))\n",
        "descri"
      ],
      "execution_count": 15,
      "outputs": [
        {
          "output_type": "execute_result",
          "data": {
            "text/html": [
              "<div>\n",
              "<style scoped>\n",
              "    .dataframe tbody tr th:only-of-type {\n",
              "        vertical-align: middle;\n",
              "    }\n",
              "\n",
              "    .dataframe tbody tr th {\n",
              "        vertical-align: top;\n",
              "    }\n",
              "\n",
              "    .dataframe thead th {\n",
              "        text-align: right;\n",
              "    }\n",
              "</style>\n",
              "<table border=\"1\" class=\"dataframe\">\n",
              "  <thead>\n",
              "    <tr style=\"text-align: right;\">\n",
              "      <th></th>\n",
              "      <th>sample1</th>\n",
              "      <th>sample2</th>\n",
              "      <th>sample3</th>\n",
              "    </tr>\n",
              "  </thead>\n",
              "  <tbody>\n",
              "    <tr>\n",
              "      <th>n</th>\n",
              "      <td>100</td>\n",
              "      <td>100</td>\n",
              "      <td>100</td>\n",
              "    </tr>\n",
              "    <tr>\n",
              "      <th>(min,max)</th>\n",
              "      <td>(-33.437686055382315, 36.63271280981151)</td>\n",
              "      <td>(-37.388888549129305, 43.50912666440587)</td>\n",
              "      <td>(-49.68607275436371, 48.97714529751781)</td>\n",
              "    </tr>\n",
              "    <tr>\n",
              "      <th>mean</th>\n",
              "      <td>0.156859</td>\n",
              "      <td>-0.0514723</td>\n",
              "      <td>1.21103</td>\n",
              "    </tr>\n",
              "    <tr>\n",
              "      <th>variance</th>\n",
              "      <td>218.851</td>\n",
              "      <td>257.612</td>\n",
              "      <td>447.447</td>\n",
              "    </tr>\n",
              "    <tr>\n",
              "      <th>skewness</th>\n",
              "      <td>0.023181</td>\n",
              "      <td>0.0134183</td>\n",
              "      <td>-0.108756</td>\n",
              "    </tr>\n",
              "    <tr>\n",
              "      <th>kurtosis</th>\n",
              "      <td>-0.187861</td>\n",
              "      <td>-0.0139908</td>\n",
              "      <td>-0.340913</td>\n",
              "    </tr>\n",
              "  </tbody>\n",
              "</table>\n",
              "</div>"
            ],
            "text/plain": [
              "                                            sample1  \\\n",
              "n                                               100   \n",
              "(min,max)  (-33.437686055382315, 36.63271280981151)   \n",
              "mean                                       0.156859   \n",
              "variance                                    218.851   \n",
              "skewness                                   0.023181   \n",
              "kurtosis                                  -0.187861   \n",
              "\n",
              "                                            sample2  \\\n",
              "n                                               100   \n",
              "(min,max)  (-37.388888549129305, 43.50912666440587)   \n",
              "mean                                     -0.0514723   \n",
              "variance                                    257.612   \n",
              "skewness                                  0.0134183   \n",
              "kurtosis                                 -0.0139908   \n",
              "\n",
              "                                           sample3  \n",
              "n                                              100  \n",
              "(min,max)  (-49.68607275436371, 48.97714529751781)  \n",
              "mean                                       1.21103  \n",
              "variance                                   447.447  \n",
              "skewness                                 -0.108756  \n",
              "kurtosis                                 -0.340913  "
            ]
          },
          "metadata": {
            "tags": []
          },
          "execution_count": 15
        }
      ]
    },
    {
      "cell_type": "code",
      "metadata": {
        "id": "AaEczU6Lm8W-",
        "colab_type": "code",
        "colab": {
          "base_uri": "https://localhost:8080/",
          "height": 51
        },
        "outputId": "5e703930-8d91-48ea-9ea5-32945a8032c2"
      },
      "source": [
        "print('sample3 95%信賴區間')\n",
        "stats.norm.interval(0.05,loc=original.loc[:,'sample3'].mean(),scale=stats.sem(original.loc[:,'sample3']))"
      ],
      "execution_count": 17,
      "outputs": [
        {
          "output_type": "stream",
          "text": [
            "sample3 95%信賴區間\n"
          ],
          "name": "stdout"
        },
        {
          "output_type": "execute_result",
          "data": {
            "text/plain": [
              "(1.0783884324449775, 1.343675041876708)"
            ]
          },
          "metadata": {
            "tags": []
          },
          "execution_count": 17
        }
      ]
    },
    {
      "cell_type": "code",
      "metadata": {
        "id": "VPxjp9HunLg_",
        "colab_type": "code",
        "colab": {
          "base_uri": "https://localhost:8080/",
          "height": 34
        },
        "outputId": "e2d0bf7f-89aa-4f99-872d-d7495d235abe"
      },
      "source": [
        "anova=np.array(stats.f_oneway(original.loc[:,'sample1'],original.loc[:,'sample2'],original.loc[:,'sample3']))\n",
        "an=pd.DataFrame()\n",
        "an['value']=anova\n",
        "an.index=['statistic','p-value']\n",
        "if float(an.loc[an.index=='p-value','value'])>0.05:\n",
        "  print('not reject H0')\n",
        "else:\n",
        "  print('reject H0')"
      ],
      "execution_count": 24,
      "outputs": [
        {
          "output_type": "stream",
          "text": [
            "not reject H0\n"
          ],
          "name": "stdout"
        }
      ]
    },
    {
      "cell_type": "code",
      "metadata": {
        "id": "KujnkwSdnrfW",
        "colab_type": "code",
        "colab": {}
      },
      "source": [
        ""
      ],
      "execution_count": 0,
      "outputs": []
    },
    {
      "cell_type": "code",
      "metadata": {
        "id": "6wD9oyKkoN1_",
        "colab_type": "code",
        "colab": {}
      },
      "source": [
        ""
      ],
      "execution_count": 0,
      "outputs": []
    }
  ]
}