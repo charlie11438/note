{
  "nbformat": 4,
  "nbformat_minor": 0,
  "metadata": {
    "colab": {
      "name": "stats.ipynb",
      "version": "0.3.2",
      "provenance": [],
      "collapsed_sections": []
    },
    "kernelspec": {
      "name": "python3",
      "display_name": "Python 3"
    }
  },
  "cells": [
    {
      "cell_type": "markdown",
      "metadata": {
        "id": "8qAOiVSLEsL3",
        "colab_type": "text"
      },
      "source": [
        "# 統計分析筆記\n",
        "\n",
        "## 2019-05-06"
      ]
    },
    {
      "cell_type": "code",
      "metadata": {
        "id": "fkn1SPBFCgeR",
        "colab_type": "code",
        "colab": {}
      },
      "source": [
        "import numpy as np\n",
        "import scipy.stats\n",
        "import pandas as pd\n",
        "import matplotlib.pyplot as plt\n",
        "import seaborn as sns\n",
        "import math"
      ],
      "execution_count": 0,
      "outputs": []
    },
    {
      "cell_type": "code",
      "metadata": {
        "id": "adrXv4rbCmA3",
        "colab_type": "code",
        "outputId": "eb8b5691-8c97-4803-d929-3d84183c44f9",
        "colab": {
          "base_uri": "https://localhost:8080/",
          "height": 151
        }
      },
      "source": [
        "#產生亂數資料(常態分配)\n",
        "n1=2.5*np.random.randn(20)*6.25\n",
        "n2=3.5*np.random.randn(20)*7.25\n",
        "print(n1)\n",
        "print(n2)"
      ],
      "execution_count": 2,
      "outputs": [
        {
          "output_type": "stream",
          "text": [
            "[  7.50978216   0.82690292   4.35089732 -35.71968833  -1.90620747\n",
            "  -4.48039177   1.85609747  -7.31447469   7.31430015  -8.8406993\n",
            "   3.72503784 -26.48549889  11.5991129   -2.48286649   7.45703192\n",
            "  10.09639436 -21.95126782  -1.00531796 -10.32571727 -21.92960942]\n",
            "[ 10.90006154   6.50959798   4.74637258  58.15005023 -19.1488561\n",
            " -11.30367166 -29.39136305  31.38697884 -35.54579584  19.42638681\n",
            "   6.31222118  11.43224668 -24.68177941 -28.68777322  13.8018672\n",
            "   9.53325166   9.1689732   11.72542299   4.56815166  -6.85739949]\n"
          ],
          "name": "stdout"
        }
      ]
    },
    {
      "cell_type": "code",
      "metadata": {
        "id": "ZQQ3X4AuDiii",
        "colab_type": "code",
        "colab": {}
      },
      "source": [
        "#產生DataFrame\n",
        "original=pd.DataFrame()\n",
        "original['sample1']=n1\n",
        "original['sample2']=n2"
      ],
      "execution_count": 0,
      "outputs": []
    },
    {
      "cell_type": "code",
      "metadata": {
        "id": "ghPAV_jvDpY2",
        "colab_type": "code",
        "outputId": "652745e6-6da2-49a0-af7a-a5feae31520e",
        "colab": {
          "base_uri": "https://localhost:8080/",
          "height": 118
        }
      },
      "source": [
        "print(original.head())"
      ],
      "execution_count": 4,
      "outputs": [
        {
          "output_type": "stream",
          "text": [
            "     sample1    sample2\n",
            "0   7.509782  10.900062\n",
            "1   0.826903   6.509598\n",
            "2   4.350897   4.746373\n",
            "3 -35.719688  58.150050\n",
            "4  -1.906207 -19.148856\n"
          ],
          "name": "stdout"
        }
      ]
    },
    {
      "cell_type": "markdown",
      "metadata": {
        "id": "PPJ45YvEE305",
        "colab_type": "text"
      },
      "source": [
        "# 敘述性統計"
      ]
    },
    {
      "cell_type": "code",
      "metadata": {
        "id": "D0uSeTfDEpe9",
        "colab_type": "code",
        "outputId": "33756722-a7f9-4b57-fa30-9a4bcba99645",
        "colab": {
          "base_uri": "https://localhost:8080/",
          "height": 54
        }
      },
      "source": [
        "scipy.stats.describe(original.loc[:,'sample1'])"
      ],
      "execution_count": 5,
      "outputs": [
        {
          "output_type": "execute_result",
          "data": {
            "text/plain": [
              "DescribeResult(nobs=20, minmax=(-35.719688330804715, 11.59911290048453), mean=-4.385309118679641, variance=171.7685569223673, skewness=-0.9352625801943688, kurtosis=-0.043476686131822984)"
            ]
          },
          "metadata": {
            "tags": []
          },
          "execution_count": 5
        }
      ]
    },
    {
      "cell_type": "code",
      "metadata": {
        "id": "kxsW_ypPFHao",
        "colab_type": "code",
        "outputId": "93430818-7779-41ec-d10b-786faef892b2",
        "colab": {
          "base_uri": "https://localhost:8080/",
          "height": 34
        }
      },
      "source": [
        "scipy.stats.describe(original.loc[:,'sample2'])"
      ],
      "execution_count": 6,
      "outputs": [
        {
          "output_type": "execute_result",
          "data": {
            "text/plain": [
              "DescribeResult(nobs=20, minmax=(-35.54579583729373, 58.1500502276925), mean=2.102247188924031, variance=507.0857438126466, skewness=0.3101917344561834, kurtosis=0.3158064109993015)"
            ]
          },
          "metadata": {
            "tags": []
          },
          "execution_count": 6
        }
      ]
    },
    {
      "cell_type": "code",
      "metadata": {
        "id": "MyxLXw-DFNI7",
        "colab_type": "code",
        "outputId": "931f9832-4a44-43e6-e81a-11c20045b886",
        "colab": {
          "base_uri": "https://localhost:8080/",
          "height": 839
        }
      },
      "source": [
        "z0=plt.figure(figsize=(15,14))\n",
        "z0.add_subplot(2,1,1)\n",
        "sns.distplot(original.loc[:,'sample1'])\n",
        "plt.title('sample1 distribution plot')\n",
        "z0.add_subplot(2,1,2)\n",
        "sns.distplot(original.loc[:,'sample2'])\n",
        "plt.title('sample2 distribution plot')\n",
        "plt.show()"
      ],
      "execution_count": 7,
      "outputs": [
        {
          "output_type": "display_data",
          "data": {
            "image/png": "[encoded data removed]",
            "text/plain": [
              "<Figure size 1080x1008 with 2 Axes>"
            ]
          },
          "metadata": {
            "tags": []
          }
        }
      ]
    },
    {
      "cell_type": "markdown",
      "metadata": {
        "id": "t6c2PcgmJw8d",
        "colab_type": "text"
      },
      "source": [
        "# 敘述性統計\n",
        "\n",
        "兩者皆為右偏,近似常態分配\n"
      ]
    },
    {
      "cell_type": "markdown",
      "metadata": {
        "id": "kvqjSxBpGZWg",
        "colab_type": "text"
      },
      "source": [
        "# 信賴區間\n",
        "\n",
        "標準誤=(樣本標準差)/(樣本數)^(1/2)\n",
        "\n",
        "20為小樣本,使用t分配"
      ]
    },
    {
      "cell_type": "code",
      "metadata": {
        "id": "RI8F5RuxF2DD",
        "colab_type": "code",
        "outputId": "c17d2775-c43d-46c1-a2cc-a7dc4a9b9418",
        "colab": {
          "base_uri": "https://localhost:8080/",
          "height": 34
        }
      },
      "source": [
        "sample1test=np.array(scipy.stats.ttest_1samp(original.loc[:,'sample1'],original.loc[:,'sample1'].mean()))\n",
        "se=(original.loc[:,'sample1'].std()/math.sqrt(original.index.shape[0]))\n",
        "print('sample1信賴區間:',original.loc[:,'sample1'].mean()-(sample1test[0]*se),'< 群體平均數 <',original.loc[:,'sample1'].mean()+(se*sample1test[1]))"
      ],
      "execution_count": 8,
      "outputs": [
        {
          "output_type": "stream",
          "text": [
            "sample1信賴區間: -4.3853091186796425 < 群體平均數 < -1.45470715899314\n"
          ],
          "name": "stdout"
        }
      ]
    },
    {
      "cell_type": "code",
      "metadata": {
        "id": "1s9OIm-ZG-fR",
        "colab_type": "code",
        "outputId": "132666d4-649e-4e6f-b00f-73bc911f77a6",
        "colab": {
          "base_uri": "https://localhost:8080/",
          "height": 34
        }
      },
      "source": [
        "sample2test=np.array(scipy.stats.ttest_1samp(original.loc[:,'sample2'],original.loc[:,'sample2'].mean()))\n",
        "se2=(original.loc[:,'sample2'].std()/math.sqrt(original.index.shape[0]))\n",
        "print('sample2信賴區間:',original.loc[:,'sample2'].mean()-(sample2test[0]*se2),'< 群體平均數 <',original.loc[:,'sample2'].mean()+(se2*sample1test[1]))"
      ],
      "execution_count": 9,
      "outputs": [
        {
          "output_type": "stream",
          "text": [
            "sample2信賴區間: 2.1022471889240317 < 群體平均數 < 7.137551270171987\n"
          ],
          "name": "stdout"
        }
      ]
    },
    {
      "cell_type": "markdown",
      "metadata": {
        "id": "wL47FcS7I9Un",
        "colab_type": "text"
      },
      "source": [
        "# 假說檢定\n",
        "\n",
        "設sample1群體平均數為mu1,sample2群體平均數為mu2\n",
        "\n",
        "\n",
        "H0:mu1=mu2\n",
        "\n",
        "\n",
        "H1:mu1!=mu2\n",
        "\n",
        "\n",
        "scipy的ttest_ind為雙尾檢定,檢測兩群體間的差異\n"
      ]
    },
    {
      "cell_type": "code",
      "metadata": {
        "id": "t7t8Lu_YIvMb",
        "colab_type": "code",
        "outputId": "a47fb529-0e54-4e39-d596-dffcc1ddec28",
        "colab": {
          "base_uri": "https://localhost:8080/",
          "height": 34
        }
      },
      "source": [
        "scipy.stats.ttest_ind(original.loc[:,'sample1'],original.loc[:,'sample2'])"
      ],
      "execution_count": 10,
      "outputs": [
        {
          "output_type": "execute_result",
          "data": {
            "text/plain": [
              "Ttest_indResult(statistic=-1.1135452026038468, pvalue=0.2724686314618812)"
            ]
          },
          "metadata": {
            "tags": []
          },
          "execution_count": 10
        }
      ]
    },
    {
      "cell_type": "markdown",
      "metadata": {
        "id": "j-SCcLjiKcI6",
        "colab_type": "text"
      },
      "source": [
        "# 假說檢定\n",
        "\n",
        "p-value 為 0.265,大於0.05,顯著\n",
        "\n",
        "因此不棄卻H0"
      ]
    },
    {
      "cell_type": "code",
      "metadata": {
        "id": "dAJPONXJJj6L",
        "colab_type": "code",
        "colab": {}
      },
      "source": [
        ""
      ],
      "execution_count": 0,
      "outputs": []
    }
  ]
}